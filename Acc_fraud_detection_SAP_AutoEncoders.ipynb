{
  "nbformat": 4,
  "nbformat_minor": 0,
  "metadata": {
    "kernelspec": {
      "name": "python3",
      "display_name": "Python 3"
    },
    "language_info": {
      "codemirror_mode": {
        "name": "ipython",
        "version": 3
      },
      "file_extension": ".py",
      "mimetype": "text/x-python",
      "name": "python",
      "nbconvert_exporter": "python",
      "pygments_lexer": "ipython3",
      "version": "3.6.8"
    },
    "colab": {
      "name": "Acc_fraud_detection_SAP_AutoEncoders.ipynb",
      "provenance": [],
      "collapsed_sections": [
        "djx48ZfCMpD2",
        "Rb6kim-VMpD7",
        "wfa0nnBYMpEG",
        "lt8BIL1hMpEV",
        "3BnVvdNmMpEc",
        "m6ftxY-uMpEo",
        "HwqMKOggMpE0",
        "vGMLkSP9MpFE",
        "MbUypqZGMpFS",
        "ygWx2O2jMpFf",
        "Qwn3m_i5MpFq",
        "oTisIL5BMpGA",
        "sXoptQ_6MpGN",
        "H1TUw4D3MpGT",
        "vdEIaTQkMpGg"
      ],
      "toc_visible": true,
      "include_colab_link": true
    },
    "accelerator": "GPU"
  },
  "cells": [
    {
      "cell_type": "markdown",
      "metadata": {
        "id": "view-in-github",
        "colab_type": "text"
      },
      "source": [
        "<a href=\"https://colab.research.google.com/github/andreb8/mlxtend/blob/master/Acc_fraud_detection_SAP_AutoEncoders.ipynb\" target=\"_parent\"><img src=\"https://colab.research.google.com/assets/colab-badge.svg\" alt=\"Open In Colab\"/></a>"
      ]
    },
    {
      "cell_type": "code",
      "metadata": {
        "id": "IOqDpr7EMpDX",
        "colab_type": "code",
        "colab": {}
      },
      "source": [
        "# -*- coding: utf-8 -*-"
      ],
      "execution_count": 0,
      "outputs": []
    },
    {
      "cell_type": "markdown",
      "metadata": {
        "id": "2Ts125zBMpDe",
        "colab_type": "text"
      },
      "source": [
        "## POC aims to prove effectiveness of Deep auto encoder nn algorithms for Detection of Anomalies in Financial Transactions  \n"
      ]
    },
    {
      "cell_type": "markdown",
      "metadata": {
        "id": "YgEqyapNMpDh",
        "colab_type": "text"
      },
      "source": [
        "## 1. Introduction"
      ]
    },
    {
      "cell_type": "markdown",
      "metadata": {
        "id": "VNxx82d7MpDi",
        "colab_type": "text"
      },
      "source": [
        "### 1.1 Fraud and Accounting Information Systems (AIS)"
      ]
    },
    {
      "cell_type": "markdown",
      "metadata": {
        "id": "-O0kUMkvMpDj",
        "colab_type": "text"
      },
      "source": [
        "The Association of Certified Fraud Examiners estimates in its Global Fraud Study 2016 [1] that the typical organization loses 5% of its annual revenues due to fraud. According to Joseph T. Wells [2] the term **\"fraud\"** refers to, \n",
        "\n",
        ">_\"the abuse of one's occupation for personal enrichment through the deliberate misuse of an organization's resources or assets\"_. \n",
        "\n",
        "A similar more recent study, conducted by PwC, revealed that 30% of the study respondents experienced losses of between \\$100,000 and \\$5 million USD [3] in the last 24 months. The study also showed that financial statement fraud caused by far the greatest median loss of the surveyed fraud schemes.\n",
        "\n",
        "At the same time organizations accelerate the digitization and reconfiguration of business processes [4] affecting in particular Accounting Information Systems (AIS) or more general Enterprise Resource Planning (ERP) systems."
      ]
    },
    {
      "cell_type": "markdown",
      "metadata": {
        "id": "zlKbh_TwMpDl",
        "colab_type": "text"
      },
      "source": [
        "<img align=\"middle\" style=\"max-width: 550px; height: auto\" src=\"https://github.com/GitiHubi/deepAI/blob/master/images/accounting.png?raw=1\">"
      ]
    },
    {
      "cell_type": "markdown",
      "metadata": {
        "id": "qmdEITN2MpDm",
        "colab_type": "text"
      },
      "source": [
        "**Figure 1:** Hierarchical view of an Accounting Information System (AIS) that records distinct layers of abstraction, namely (1) the business process information, (2) the accounting information as well as the (3) technical journal entry information in designated database tables."
      ]
    },
    {
      "cell_type": "markdown",
      "metadata": {
        "id": "D-2uy0w8MpDn",
        "colab_type": "text"
      },
      "source": [
        "Steadily, these systems collect vast quantities of electronic evidence at an almost atomic level. This holds in particular for the journal entries of an organization recorded in its general ledger and sub-ledger accounts. SAP, one of the most prominent ERP software providers, estimates that approx. 76% of the world's transaction revenue touches one of their systems [5].\n",
        "\n",
        "The illustration in **Figure 1** depicts a hierarchical view of an Accounting Information System (AIS) recording process and journal entry information in designated database tables. In the context of fraud examinations, the data collected by such systems may contain valuable traces of a potential fraud scheme."
      ]
    },
    {
      "cell_type": "markdown",
      "metadata": {
        "id": "LJXqPkQaMpDo",
        "colab_type": "text"
      },
      "source": [
        "### 1.2 Classification of Financial Anomalies"
      ]
    },
    {
      "cell_type": "markdown",
      "metadata": {
        "id": "UIZssaNSMpDp",
        "colab_type": "text"
      },
      "source": [
        "When conducting a detailed examination of real-world journal entries, usually recorded in large-scaled AIS or ERP systems, two prevalent characteristics can be observed:\n",
        "\n",
        "> - specific transactions attributes exhibit **a high variety of distinct attribute values** e.g. customer information, posted sub-ledgers, amount information, and \n",
        "> - the transactions exhibit **strong dependencies between specific attribute values** e.g. between customer information and type of payment, posting type and general ledgers. \n",
        "\n",
        "Derived from this observation we distinguish two classes of anomalous journal entries, namely **\"global\"** and **\"local\" anomalies** as illustrated in **Figure 2** below:"
      ]
    },
    {
      "cell_type": "markdown",
      "metadata": {
        "id": "C6dhEDCwMpDq",
        "colab_type": "text"
      },
      "source": [
        "<img align=\"middle\" style=\"max-width: 450px; height: auto\" src=\"https://github.com/GitiHubi/deepAI/blob/master/images/anomalies.png?raw=1\">"
      ]
    },
    {
      "cell_type": "markdown",
      "metadata": {
        "id": "8MLg2DvVMpDr",
        "colab_type": "text"
      },
      "source": [
        "**Figure 2:** Illustrative example of global and local anomalies portrait in a feature space of the two transaction features \"Posting Amount\" (Feature 1) and \"Posting Positions\" (Feature 2)."
      ]
    },
    {
      "cell_type": "markdown",
      "metadata": {
        "id": "6GcqRMepMpDs",
        "colab_type": "text"
      },
      "source": [
        "***Global Anomalies***, are financial transactions that exhibit **unusual or rare individual attribute values**. These anomalies usually relate to highly skewed attributes e.g. seldom posting users, rarely used ledgers, or unusual posting times. \n",
        "\n",
        "Traditionally \"red-flag\" tests, performed by auditors during annual audits, are designed to capture those types of anomalies. However, such tests might result in a high volume of false positive alerts due to e.g. regular reverse postings, provisions and year-end adjustments usually associated with a low fraud risk."
      ]
    },
    {
      "cell_type": "markdown",
      "metadata": {
        "id": "O8opFzQDMpDt",
        "colab_type": "text"
      },
      "source": [
        "***Local Anomalies***, are financial transactions that exhibit an **unusual or rare combination of attribute values** while the individual attribute values occur quite frequently e.g. unusual accounting records. \n",
        "\n",
        "This type of anomaly is significantly more difficult to detect since perpetrators intend to disguise their activities trying to imitate a regular behaviour. As a result, such anomalies usually pose a high fraud risk since they might correspond to e.g. misused user accounts, irregular combinations of general ledger accounts and posting keys that don't follow an usual activity pattern."
      ]
    },
    {
      "cell_type": "markdown",
      "metadata": {
        "id": "5S6JGbySMpD0",
        "colab_type": "text"
      },
      "source": [
        "## 2. Environment Setup and Verification"
      ]
    },
    {
      "cell_type": "markdown",
      "metadata": {
        "id": "djx48ZfCMpD2",
        "colab_type": "text"
      },
      "source": [
        "### 2.1 Python Verification"
      ]
    },
    {
      "cell_type": "markdown",
      "metadata": {
        "id": "r3FP0d4kMpD3",
        "colab_type": "text"
      },
      "source": [
        "Before we begin, let's verify that Python is working on your system. To do this, execute the cell block below by giving it focus (clicking on it with your mouse), and hitting Shift-Enter, or pressing the play button in the toolbar above. If all goes well, you should see some output returned below the grey cell."
      ]
    },
    {
      "cell_type": "code",
      "metadata": {
        "id": "xsdvF7KoMpD4",
        "colab_type": "code",
        "outputId": "547b1c06-7f68-4320-d0c0-3c1b1f089f03",
        "colab": {
          "base_uri": "https://localhost:8080/",
          "height": 35
        }
      },
      "source": [
        "print('The answer should be forty-two: {}'.format(str(40+2)))"
      ],
      "execution_count": 0,
      "outputs": [
        {
          "output_type": "stream",
          "text": [
            "The answer should be forty-two: 42\n"
          ],
          "name": "stdout"
        }
      ]
    },
    {
      "cell_type": "markdown",
      "metadata": {
        "id": "Rb6kim-VMpD7",
        "colab_type": "text"
      },
      "source": [
        "### 2.2 Python Libraries Import"
      ]
    },
    {
      "cell_type": "markdown",
      "metadata": {
        "id": "NzemJBk0MpD8",
        "colab_type": "text"
      },
      "source": [
        "As a next step let's import the libraries needed throughout the lab:"
      ]
    },
    {
      "cell_type": "code",
      "metadata": {
        "id": "ZNtEfQ9aMpD9",
        "colab_type": "code",
        "colab": {}
      },
      "source": [
        "# importing utilities\n",
        "import os\n",
        "import sys\n",
        "from datetime import datetime\n",
        "import io\n",
        "import urllib\n",
        "\n",
        "# importing data science libraries\n",
        "import pandas as pd\n",
        "import random as rd\n",
        "import numpy as np\n",
        "\n",
        "# importing pytorch libraries\n",
        "import torch\n",
        "from torch import nn\n",
        "from torch import autograd\n",
        "from torch.utils.data import DataLoader\n",
        "\n",
        "# import visualization libraries\n",
        "import matplotlib.pyplot as plt\n",
        "from mpl_toolkits.mplot3d import Axes3D\n",
        "import seaborn as sns\n",
        "from IPython.display import Image, display\n",
        "sns.set_style('darkgrid')\n",
        "\n",
        "# ignore potential warnings\n",
        "import warnings\n",
        "warnings.filterwarnings(\"ignore\")"
      ],
      "execution_count": 0,
      "outputs": []
    },
    {
      "cell_type": "markdown",
      "metadata": {
        "id": "jTNpSfhRMpEB",
        "colab_type": "text"
      },
      "source": [
        "Allow for Jupyter notebook inline plotting:"
      ]
    },
    {
      "cell_type": "code",
      "metadata": {
        "id": "NCP_stxMMpEC",
        "colab_type": "code",
        "colab": {}
      },
      "source": [
        "%matplotlib inline"
      ],
      "execution_count": 0,
      "outputs": []
    },
    {
      "cell_type": "markdown",
      "metadata": {
        "id": "wfa0nnBYMpEG",
        "colab_type": "text"
      },
      "source": [
        "### 2.3 CUDNN and GPU Verification"
      ]
    },
    {
      "cell_type": "markdown",
      "metadata": {
        "id": "v2dOoFLpMpEH",
        "colab_type": "text"
      },
      "source": [
        "To determine if CDNN is available on the server let's execute the cell below to display information about the available CUDNN version:"
      ]
    },
    {
      "cell_type": "code",
      "metadata": {
        "id": "MhFJksz5MpEI",
        "colab_type": "code",
        "outputId": "cc249d34-8adf-47cb-a0e8-c06e2f72f9f8",
        "colab": {
          "base_uri": "https://localhost:8080/",
          "height": 35
        }
      },
      "source": [
        "# print CUDNN backend version\n",
        "now = datetime.utcnow().strftime(\"%Y%m%d-%H:%M:%S\")\n",
        "print('[LOG {}] The CUDNN backend version: {}'.format(now, torch.backends.cudnn.version()))"
      ],
      "execution_count": 0,
      "outputs": [
        {
          "output_type": "stream",
          "text": [
            "[LOG 20200209-09:26:09] The CUDNN backend version: 7603\n"
          ],
          "name": "stdout"
        }
      ]
    },
    {
      "cell_type": "markdown",
      "metadata": {
        "id": "5eOigxfHMpEL",
        "colab_type": "text"
      },
      "source": [
        "Also, let's display information about the potential GPUs running on the server:"
      ]
    },
    {
      "cell_type": "code",
      "metadata": {
        "id": "xYtCLPtdMpEM",
        "colab_type": "code",
        "outputId": "a0468479-350c-401b-8b77-2ef0e32cf2a4",
        "colab": {
          "base_uri": "https://localhost:8080/",
          "height": 326
        }
      },
      "source": [
        "!nvidia-smi"
      ],
      "execution_count": 0,
      "outputs": [
        {
          "output_type": "stream",
          "text": [
            "Sun Feb  9 09:26:18 2020       \n",
            "+-----------------------------------------------------------------------------+\n",
            "| NVIDIA-SMI 440.48.02    Driver Version: 418.67       CUDA Version: 10.1     |\n",
            "|-------------------------------+----------------------+----------------------+\n",
            "| GPU  Name        Persistence-M| Bus-Id        Disp.A | Volatile Uncorr. ECC |\n",
            "| Fan  Temp  Perf  Pwr:Usage/Cap|         Memory-Usage | GPU-Util  Compute M. |\n",
            "|===============================+======================+======================|\n",
            "|   0  Tesla T4            Off  | 00000000:00:04.0 Off |                    0 |\n",
            "| N/A   33C    P8     9W /  70W |      0MiB / 15079MiB |      0%      Default |\n",
            "+-------------------------------+----------------------+----------------------+\n",
            "                                                                               \n",
            "+-----------------------------------------------------------------------------+\n",
            "| Processes:                                                       GPU Memory |\n",
            "|  GPU       PID   Type   Process name                             Usage      |\n",
            "|=============================================================================|\n",
            "|  No running processes found                                                 |\n",
            "+-----------------------------------------------------------------------------+\n"
          ],
          "name": "stdout"
        }
      ]
    },
    {
      "cell_type": "markdown",
      "metadata": {
        "id": "pelizozvMpEP",
        "colab_type": "text"
      },
      "source": [
        "If CUDNN and GPU's are available let's still specify if we want to use both:"
      ]
    },
    {
      "cell_type": "code",
      "metadata": {
        "id": "PuCGqVKpMpEQ",
        "colab_type": "code",
        "colab": {}
      },
      "source": [
        "USE_CUDA = False"
      ],
      "execution_count": 0,
      "outputs": []
    },
    {
      "cell_type": "markdown",
      "metadata": {
        "id": "lt8BIL1hMpEV",
        "colab_type": "text"
      },
      "source": [
        "### 2.4 Python and PyTorch Verification"
      ]
    },
    {
      "cell_type": "markdown",
      "metadata": {
        "id": "6DT7h1nNMpEW",
        "colab_type": "text"
      },
      "source": [
        "Let's execute the cell below to display information about the Python and PyTorch version running on the server:"
      ]
    },
    {
      "cell_type": "code",
      "metadata": {
        "id": "aLIf0BZ9MpEX",
        "colab_type": "code",
        "outputId": "d5b9f41e-13be-4301-d666-d2ddb22e07e2",
        "colab": {
          "base_uri": "https://localhost:8080/",
          "height": 54
        }
      },
      "source": [
        "# print current Python version\n",
        "now = datetime.utcnow().strftime(\"%Y%m%d-%H:%M:%S\")\n",
        "print('[LOG {}] The Python version: {}'.format(now, sys.version))"
      ],
      "execution_count": 0,
      "outputs": [
        {
          "output_type": "stream",
          "text": [
            "[LOG 20200209-09:26:35] The Python version: 3.6.9 (default, Nov  7 2019, 10:44:02) \n",
            "[GCC 8.3.0]\n"
          ],
          "name": "stdout"
        }
      ]
    },
    {
      "cell_type": "code",
      "metadata": {
        "id": "30G93GpCMpEZ",
        "colab_type": "code",
        "outputId": "20f60924-0bc9-467a-ba47-7b5161cf7ae1",
        "colab": {
          "base_uri": "https://localhost:8080/",
          "height": 35
        }
      },
      "source": [
        "# print current PyTorch version\n",
        "now = datetime.utcnow().strftime(\"%Y%m%d-%H:%M:%S\")\n",
        "print('[LOG {}] The PyTorch version: {}'.format(now, torch.__version__))"
      ],
      "execution_count": 0,
      "outputs": [
        {
          "output_type": "stream",
          "text": [
            "[LOG 20200209-09:26:43] The PyTorch version: 1.4.0\n"
          ],
          "name": "stdout"
        }
      ]
    },
    {
      "cell_type": "markdown",
      "metadata": {
        "id": "3BnVvdNmMpEc",
        "colab_type": "text"
      },
      "source": [
        "### 2.5 Random Seed Initialization"
      ]
    },
    {
      "cell_type": "markdown",
      "metadata": {
        "id": "4uOgmsTjMpEd",
        "colab_type": "text"
      },
      "source": [
        "Finally, let' set the seeds of random elements in the code e.g. the initialization of the network parameters to guarantee deterministic computation and results:"
      ]
    },
    {
      "cell_type": "code",
      "metadata": {
        "id": "RuerqREhMpEe",
        "colab_type": "code",
        "colab": {}
      },
      "source": [
        "# init deterministic seed\n",
        "seed_value = 1234 #4444 #3333 #2222 #1111 #1234\n",
        "rd.seed(seed_value) # set random seed\n",
        "np.random.seed(seed_value) # set numpy seed\n",
        "torch.manual_seed(seed_value) # set pytorch seed CPU\n",
        "if (torch.backends.cudnn.version() != None and USE_CUDA == True):\n",
        "    torch.cuda.manual_seed(seed_value) # set pytorch seed GPU"
      ],
      "execution_count": 0,
      "outputs": []
    },
    {
      "cell_type": "markdown",
      "metadata": {
        "id": "GNWlhgpCMpEg",
        "colab_type": "text"
      },
      "source": [
        "## 3. Financial Fraud Detection Dataset"
      ]
    },
    {
      "cell_type": "markdown",
      "metadata": {
        "id": "whKmmgVeMpEh",
        "colab_type": "text"
      },
      "source": [
        "In this section, we will conduct a descriptive analysis of the labs financial dataset. Furthermore, we will apply some necessary pre-processing steps to train a deep neural network. The lab is based on a derivation of the **\"Synthetic Financial Dataset For Fraud Detection\"** by Lopez-Rojas [6] available via the Kaggle predictive modelling and analytics competitions platform that can be obtained using the following link: https://www.kaggle.com/ntnu-testimon/paysim1.\n",
        "\n",
        "Let's start loading the dataset and investigate its structure and attributes:"
      ]
    },
    {
      "cell_type": "code",
      "metadata": {
        "id": "7PAfip1MMpEi",
        "colab_type": "code",
        "colab": {}
      },
      "source": [
        "# load the dataset into the notebook kernel\n",
        "url = 'https://raw.githubusercontent.com/GitiHubi/deepAI/master/data/fraud_dataset_v2.csv'\n",
        "ori_dataset = pd.read_csv(url)"
      ],
      "execution_count": 0,
      "outputs": []
    },
    {
      "cell_type": "code",
      "metadata": {
        "id": "PiYhdB5EMpEl",
        "colab_type": "code",
        "outputId": "072988c2-2c63-4474-91b4-284c1fe96fbd",
        "colab": {
          "base_uri": "https://localhost:8080/",
          "height": 35
        }
      },
      "source": [
        "# inspect the datasets dimensionalities\n",
        "now = datetime.utcnow().strftime(\"%Y%m%d-%H:%M:%S\")\n",
        "print('[LOG {}] Transactional dataset of {} rows and {} columns loaded'.format(now, ori_dataset.shape[0], ori_dataset.shape[1]))"
      ],
      "execution_count": 0,
      "outputs": [
        {
          "output_type": "stream",
          "text": [
            "[LOG 20200209-09:27:10] Transactional dataset of 533009 rows and 10 columns loaded\n"
          ],
          "name": "stdout"
        }
      ]
    },
    {
      "cell_type": "markdown",
      "metadata": {
        "id": "m6ftxY-uMpEo",
        "colab_type": "text"
      },
      "source": [
        "### 3.1 Initial Data and Attribute Assessment"
      ]
    },
    {
      "cell_type": "markdown",
      "metadata": {
        "id": "zBmGyviaMpEo",
        "colab_type": "text"
      },
      "source": [
        "We augmented the dataset and renamed the attributes to appear more similar to a real-world dataset that one usually observes in SAP-ERP systems as part of SAP's Finance and Cost controlling (FICO) module. \n",
        "\n",
        "The dataset contains a subset of in total 7 categorical and 2 numerical attributes available in the FICO BKPF (containing the posted journal entry headers) and BSEG (containing the posted journal entry segments) tables. Please, find below a list of the individual attributes as well as a brief description of their respective semantics:\n",
        "\n",
        ">- `BELNR`: the accounting document number,\n",
        ">- `BUKRS`: the company code,\n",
        ">- `BSCHL`: the posting key,\n",
        ">- `HKONT`: the posted general ledger account,\n",
        ">- `PRCTR`: the posted profit center,\n",
        ">- `WAERS`: the currency key,\n",
        ">- `KTOSL`: the general ledger account key,\n",
        ">- `DMBTR`: the amount in local currency,\n",
        ">- `WRBTR`: the amount in document currency.\n",
        "\n",
        "Let's also have a closer look into the top 10 rows of the dataset:"
      ]
    },
    {
      "cell_type": "code",
      "metadata": {
        "id": "ObCa96uHMpEp",
        "colab_type": "code",
        "outputId": "959eace7-cdd6-45bc-e217-0b7a8f3de7cb",
        "colab": {
          "base_uri": "https://localhost:8080/",
          "height": 348
        }
      },
      "source": [
        "# inspect top rows of dataset\n",
        "ori_dataset.head(10) "
      ],
      "execution_count": 0,
      "outputs": [
        {
          "output_type": "execute_result",
          "data": {
            "text/html": [
              "<div>\n",
              "<style scoped>\n",
              "    .dataframe tbody tr th:only-of-type {\n",
              "        vertical-align: middle;\n",
              "    }\n",
              "\n",
              "    .dataframe tbody tr th {\n",
              "        vertical-align: top;\n",
              "    }\n",
              "\n",
              "    .dataframe thead th {\n",
              "        text-align: right;\n",
              "    }\n",
              "</style>\n",
              "<table border=\"1\" class=\"dataframe\">\n",
              "  <thead>\n",
              "    <tr style=\"text-align: right;\">\n",
              "      <th></th>\n",
              "      <th>BELNR</th>\n",
              "      <th>WAERS</th>\n",
              "      <th>BUKRS</th>\n",
              "      <th>KTOSL</th>\n",
              "      <th>PRCTR</th>\n",
              "      <th>BSCHL</th>\n",
              "      <th>HKONT</th>\n",
              "      <th>DMBTR</th>\n",
              "      <th>WRBTR</th>\n",
              "      <th>label</th>\n",
              "    </tr>\n",
              "  </thead>\n",
              "  <tbody>\n",
              "    <tr>\n",
              "      <th>0</th>\n",
              "      <td>288203</td>\n",
              "      <td>C3</td>\n",
              "      <td>C31</td>\n",
              "      <td>C9</td>\n",
              "      <td>C92</td>\n",
              "      <td>A3</td>\n",
              "      <td>B1</td>\n",
              "      <td>280979.60</td>\n",
              "      <td>0.00</td>\n",
              "      <td>regular</td>\n",
              "    </tr>\n",
              "    <tr>\n",
              "      <th>1</th>\n",
              "      <td>324441</td>\n",
              "      <td>C1</td>\n",
              "      <td>C18</td>\n",
              "      <td>C7</td>\n",
              "      <td>C76</td>\n",
              "      <td>A1</td>\n",
              "      <td>B2</td>\n",
              "      <td>129856.53</td>\n",
              "      <td>243343.00</td>\n",
              "      <td>regular</td>\n",
              "    </tr>\n",
              "    <tr>\n",
              "      <th>2</th>\n",
              "      <td>133537</td>\n",
              "      <td>C1</td>\n",
              "      <td>C19</td>\n",
              "      <td>C2</td>\n",
              "      <td>C20</td>\n",
              "      <td>A1</td>\n",
              "      <td>B3</td>\n",
              "      <td>957463.97</td>\n",
              "      <td>3183838.41</td>\n",
              "      <td>regular</td>\n",
              "    </tr>\n",
              "    <tr>\n",
              "      <th>3</th>\n",
              "      <td>331521</td>\n",
              "      <td>C4</td>\n",
              "      <td>C48</td>\n",
              "      <td>C9</td>\n",
              "      <td>C95</td>\n",
              "      <td>A2</td>\n",
              "      <td>B1</td>\n",
              "      <td>2681709.51</td>\n",
              "      <td>28778.00</td>\n",
              "      <td>regular</td>\n",
              "    </tr>\n",
              "    <tr>\n",
              "      <th>4</th>\n",
              "      <td>375333</td>\n",
              "      <td>C5</td>\n",
              "      <td>C58</td>\n",
              "      <td>C1</td>\n",
              "      <td>C19</td>\n",
              "      <td>A3</td>\n",
              "      <td>B1</td>\n",
              "      <td>910514.49</td>\n",
              "      <td>346.00</td>\n",
              "      <td>regular</td>\n",
              "    </tr>\n",
              "    <tr>\n",
              "      <th>5</th>\n",
              "      <td>327203</td>\n",
              "      <td>C1</td>\n",
              "      <td>C15</td>\n",
              "      <td>C6</td>\n",
              "      <td>C68</td>\n",
              "      <td>A1</td>\n",
              "      <td>B2</td>\n",
              "      <td>357627.56</td>\n",
              "      <td>704520.00</td>\n",
              "      <td>regular</td>\n",
              "    </tr>\n",
              "    <tr>\n",
              "      <th>6</th>\n",
              "      <td>292545</td>\n",
              "      <td>C4</td>\n",
              "      <td>C47</td>\n",
              "      <td>C2</td>\n",
              "      <td>C28</td>\n",
              "      <td>A2</td>\n",
              "      <td>B3</td>\n",
              "      <td>955576.84</td>\n",
              "      <td>128328.00</td>\n",
              "      <td>regular</td>\n",
              "    </tr>\n",
              "    <tr>\n",
              "      <th>7</th>\n",
              "      <td>335839</td>\n",
              "      <td>C1</td>\n",
              "      <td>C19</td>\n",
              "      <td>C1</td>\n",
              "      <td>C17</td>\n",
              "      <td>A1</td>\n",
              "      <td>B1</td>\n",
              "      <td>41769.26</td>\n",
              "      <td>0.00</td>\n",
              "      <td>regular</td>\n",
              "    </tr>\n",
              "    <tr>\n",
              "      <th>8</th>\n",
              "      <td>369064</td>\n",
              "      <td>C4</td>\n",
              "      <td>C40</td>\n",
              "      <td>C9</td>\n",
              "      <td>C97</td>\n",
              "      <td>A2</td>\n",
              "      <td>B1</td>\n",
              "      <td>44309.79</td>\n",
              "      <td>0.00</td>\n",
              "      <td>regular</td>\n",
              "    </tr>\n",
              "    <tr>\n",
              "      <th>9</th>\n",
              "      <td>138724</td>\n",
              "      <td>C6</td>\n",
              "      <td>C69</td>\n",
              "      <td>C1</td>\n",
              "      <td>C12</td>\n",
              "      <td>A2</td>\n",
              "      <td>B1</td>\n",
              "      <td>466720.45</td>\n",
              "      <td>43843.00</td>\n",
              "      <td>regular</td>\n",
              "    </tr>\n",
              "  </tbody>\n",
              "</table>\n",
              "</div>"
            ],
            "text/plain": [
              "    BELNR WAERS BUKRS KTOSL PRCTR BSCHL HKONT       DMBTR       WRBTR    label\n",
              "0  288203    C3   C31    C9   C92    A3    B1   280979.60        0.00  regular\n",
              "1  324441    C1   C18    C7   C76    A1    B2   129856.53   243343.00  regular\n",
              "2  133537    C1   C19    C2   C20    A1    B3   957463.97  3183838.41  regular\n",
              "3  331521    C4   C48    C9   C95    A2    B1  2681709.51    28778.00  regular\n",
              "4  375333    C5   C58    C1   C19    A3    B1   910514.49      346.00  regular\n",
              "5  327203    C1   C15    C6   C68    A1    B2   357627.56   704520.00  regular\n",
              "6  292545    C4   C47    C2   C28    A2    B3   955576.84   128328.00  regular\n",
              "7  335839    C1   C19    C1   C17    A1    B1    41769.26        0.00  regular\n",
              "8  369064    C4   C40    C9   C97    A2    B1    44309.79        0.00  regular\n",
              "9  138724    C6   C69    C1   C12    A2    B1   466720.45    43843.00  regular"
            ]
          },
          "metadata": {
            "tags": []
          },
          "execution_count": 14
        }
      ]
    },
    {
      "cell_type": "markdown",
      "metadata": {
        "id": "UMoShPulMpEs",
        "colab_type": "text"
      },
      "source": [
        "You may also have noticed the attribute `label` in the data. We will use this field throughout the lab to evaluate the quality of our trained models. The field describes the true nature of each individual transaction of either being a **regular** transaction (denoted by `regular`) or an **anomaly** (denoted by `global` and `local`). Let's have closer look into the distribution of the regular vs. anomalous transactions in the dataset:"
      ]
    },
    {
      "cell_type": "code",
      "metadata": {
        "id": "8fXrdnQgMpEs",
        "colab_type": "code",
        "outputId": "e1013e68-ff14-498b-ff2c-521c174beb45",
        "colab": {
          "base_uri": "https://localhost:8080/",
          "height": 90
        }
      },
      "source": [
        "# number of anomalies vs. regular transactions\n",
        "ori_dataset.label.value_counts()"
      ],
      "execution_count": 0,
      "outputs": [
        {
          "output_type": "execute_result",
          "data": {
            "text/plain": [
              "regular    532909\n",
              "global         70\n",
              "local          30\n",
              "Name: label, dtype: int64"
            ]
          },
          "metadata": {
            "tags": []
          },
          "execution_count": 15
        }
      ]
    },
    {
      "cell_type": "markdown",
      "metadata": {
        "id": "juo1I2e2MpEv",
        "colab_type": "text"
      },
      "source": [
        "Ok, the statistic reveals that, similar to real world scenarios, we are facing a highly \"unbalanced\" dataset. Overall, the dataset contains only a small fraction of **100 (0.018%)** anomalous transactions. While the 100 anomalous entries encompass **70 (0.013%)** \"global\" anomalies and **30 (0.005%)** \"local\" anomalies as introduced in section 1.2."
      ]
    },
    {
      "cell_type": "code",
      "metadata": {
        "id": "cGwH6tIrMpEw",
        "colab_type": "code",
        "colab": {}
      },
      "source": [
        "# remove the \"ground-truth\" label information for the following steps of the lab\n",
        "label = ori_dataset.pop('label')"
      ],
      "execution_count": 0,
      "outputs": []
    },
    {
      "cell_type": "markdown",
      "metadata": {
        "id": "HwqMKOggMpE0",
        "colab_type": "text"
      },
      "source": [
        "### 3.2 Pre-Processing of Categorical Transaction Attributes"
      ]
    },
    {
      "cell_type": "markdown",
      "metadata": {
        "id": "UP5-tKs6MpE2",
        "colab_type": "text"
      },
      "source": [
        "From the initial data assessment above we can observe that the majority of attributes recorded in AIS- and ERP-systems correspond to categorical (discrete) attribute values, e.g. the posting date, the general-ledger account, the posting type, the currency. Let's have a more detailed look into the distribution of two dataset attributes, namely (1) the posting key `BSCHL` as well as (2) the general ledger account `HKONT`:"
      ]
    },
    {
      "cell_type": "code",
      "metadata": {
        "id": "fEyyz2KEMpE3",
        "colab_type": "code",
        "outputId": "55f8ce06-1e74-4c0a-d435-1a7dba8b35e5",
        "colab": {
          "base_uri": "https://localhost:8080/",
          "height": 326
        }
      },
      "source": [
        "# prepare to plot posting key and general ledger account side by side\n",
        "fig, ax = plt.subplots(1,2)\n",
        "fig.set_figwidth(20)\n",
        "\n",
        "# plot the distribution of the posting key attribute\n",
        "g = sns.countplot(x=ori_dataset['BSCHL'], ax=ax[0])\n",
        "g.set_xticklabels(g.get_xticklabels(), rotation=90)\n",
        "g.set_title('Distribution of BSCHL attribute values')\n",
        "\n",
        "# plot the distribution of the general ledger account attribute\n",
        "g = sns.countplot(x=ori_dataset['HKONT'], ax=ax[1])\n",
        "g.set_xticklabels(g.get_xticklabels(), rotation=90)\n",
        "g.set_title('Distribution of HKONT attribute values')"
      ],
      "execution_count": 0,
      "outputs": [
        {
          "output_type": "execute_result",
          "data": {
            "text/plain": [
              "Text(0.5, 1.0, 'Distribution of HKONT attribute values')"
            ]
          },
          "metadata": {
            "tags": []
          },
          "execution_count": 17
        },
        {
          "output_type": "display_data",
          "data": {
            "image/png": "[encoded data removed]",
            "text/plain": [
              "<Figure size 1440x288 with 2 Axes>"
            ]
          },
          "metadata": {
            "tags": []
          }
        }
      ]
    },
    {
      "cell_type": "markdown",
      "metadata": {
        "id": "7y9gXZcGMpE6",
        "colab_type": "text"
      },
      "source": [
        "Unfortunately, neural networks are in general not designed to be trained directly on categorical data and require the attributes to be trained on to be numeric. One simple way to meet this requirement is by applying a technique referred to as **\"one-hot\" encoding**. Using this encoding technique, we will derive a numerical representation of each of the categorical attribute values. One-hot encoding creates new binary columns for each categorical attribute value present in the original data. \n",
        "\n",
        "Let's work through a brief example: The **categorical attribute “Receiver”** below contains the names \"John\", \"Timur\" and \"Marco\". We \"one-hot\" encode the names by creating a separate binary column for each possible name value observable in the \"Receiver\" column. Now, we encode for each transaction that contains the value \"John\" in the \"Receiver\" column this observation with 1.0 in the newly created \"John\" column and 0.0 in all other created name columns."
      ]
    },
    {
      "cell_type": "markdown",
      "metadata": {
        "id": "0h41QHhaMpE7",
        "colab_type": "text"
      },
      "source": [
        "<img align=\"middle\" style=\"max-width: 430px; height: auto\" src=\"https://github.com/GitiHubi/deepAI/blob/master/images/encoding.png?raw=1\">"
      ]
    },
    {
      "cell_type": "markdown",
      "metadata": {
        "id": "vnUKvu6VMpE8",
        "colab_type": "text"
      },
      "source": [
        "Using this technique will \"one-hot\" encode the 6 categorical attributes in the original transactional dataset. This can be achieved using the `get_dummies()` function available in the Pandas data science library:  "
      ]
    },
    {
      "cell_type": "code",
      "metadata": {
        "id": "TGEdhiYUMpE9",
        "colab_type": "code",
        "colab": {}
      },
      "source": [
        "# select categorical attributes to be \"one-hot\" encoded\n",
        "categorical_attr_names = ['KTOSL', 'PRCTR', 'BSCHL', 'HKONT']\n",
        "\n",
        "# encode categorical attributes into a binary one-hot encoded representation \n",
        "ori_dataset_categ_transformed = pd.get_dummies(ori_dataset[categorical_attr_names])"
      ],
      "execution_count": 0,
      "outputs": []
    },
    {
      "cell_type": "markdown",
      "metadata": {
        "id": "Cw__mpoXMpE_",
        "colab_type": "text"
      },
      "source": [
        "Finally, let's inspect the encoding of 10 sample transactions to see if we have been successfull."
      ]
    },
    {
      "cell_type": "code",
      "metadata": {
        "id": "8-euuUG-MpFB",
        "colab_type": "code",
        "outputId": "74160245-e528-4885-deec-8ed95c3181fd",
        "colab": {
          "base_uri": "https://localhost:8080/",
          "height": 397
        }
      },
      "source": [
        "# inspect encoded sample transactions\n",
        "ori_dataset_categ_transformed.head(10)"
      ],
      "execution_count": 0,
      "outputs": [
        {
          "output_type": "execute_result",
          "data": {
            "text/html": [
              "<div>\n",
              "<style scoped>\n",
              "    .dataframe tbody tr th:only-of-type {\n",
              "        vertical-align: middle;\n",
              "    }\n",
              "\n",
              "    .dataframe tbody tr th {\n",
              "        vertical-align: top;\n",
              "    }\n",
              "\n",
              "    .dataframe thead th {\n",
              "        text-align: right;\n",
              "    }\n",
              "</style>\n",
              "<table border=\"1\" class=\"dataframe\">\n",
              "  <thead>\n",
              "    <tr style=\"text-align: right;\">\n",
              "      <th></th>\n",
              "      <th>KTOSL_A19</th>\n",
              "      <th>KTOSL_B06</th>\n",
              "      <th>KTOSL_B12</th>\n",
              "      <th>KTOSL_B83</th>\n",
              "      <th>KTOSL_C1</th>\n",
              "      <th>KTOSL_C2</th>\n",
              "      <th>KTOSL_C3</th>\n",
              "      <th>KTOSL_C39</th>\n",
              "      <th>KTOSL_C4</th>\n",
              "      <th>KTOSL_C5</th>\n",
              "      <th>KTOSL_C6</th>\n",
              "      <th>KTOSL_C7</th>\n",
              "      <th>KTOSL_C76</th>\n",
              "      <th>KTOSL_C8</th>\n",
              "      <th>KTOSL_C84</th>\n",
              "      <th>KTOSL_C9</th>\n",
              "      <th>KTOSL_D30</th>\n",
              "      <th>KTOSL_D51</th>\n",
              "      <th>KTOSL_D84</th>\n",
              "      <th>KTOSL_D89</th>\n",
              "      <th>KTOSL_E35</th>\n",
              "      <th>KTOSL_E40</th>\n",
              "      <th>KTOSL_F19</th>\n",
              "      <th>KTOSL_F45</th>\n",
              "      <th>KTOSL_G09</th>\n",
              "      <th>KTOSL_G19</th>\n",
              "      <th>KTOSL_G28</th>\n",
              "      <th>KTOSL_I08</th>\n",
              "      <th>KTOSL_I94</th>\n",
              "      <th>KTOSL_J33</th>\n",
              "      <th>KTOSL_J53</th>\n",
              "      <th>KTOSL_J67</th>\n",
              "      <th>KTOSL_J81</th>\n",
              "      <th>KTOSL_K00</th>\n",
              "      <th>KTOSL_K78</th>\n",
              "      <th>KTOSL_K80</th>\n",
              "      <th>KTOSL_K84</th>\n",
              "      <th>KTOSL_L07</th>\n",
              "      <th>KTOSL_L09</th>\n",
              "      <th>KTOSL_L17</th>\n",
              "      <th>...</th>\n",
              "      <th>HKONT_L03</th>\n",
              "      <th>HKONT_L31</th>\n",
              "      <th>HKONT_L70</th>\n",
              "      <th>HKONT_L79</th>\n",
              "      <th>HKONT_M08</th>\n",
              "      <th>HKONT_M13</th>\n",
              "      <th>HKONT_N10</th>\n",
              "      <th>HKONT_N28</th>\n",
              "      <th>HKONT_N47</th>\n",
              "      <th>HKONT_N94</th>\n",
              "      <th>HKONT_N95</th>\n",
              "      <th>HKONT_O94</th>\n",
              "      <th>HKONT_Q69</th>\n",
              "      <th>HKONT_Q81</th>\n",
              "      <th>HKONT_Q93</th>\n",
              "      <th>HKONT_Q99</th>\n",
              "      <th>HKONT_R19</th>\n",
              "      <th>HKONT_R89</th>\n",
              "      <th>HKONT_S06</th>\n",
              "      <th>HKONT_S49</th>\n",
              "      <th>HKONT_S52</th>\n",
              "      <th>HKONT_T15</th>\n",
              "      <th>HKONT_T37</th>\n",
              "      <th>HKONT_T45</th>\n",
              "      <th>HKONT_T91</th>\n",
              "      <th>HKONT_T94</th>\n",
              "      <th>HKONT_U00</th>\n",
              "      <th>HKONT_U09</th>\n",
              "      <th>HKONT_U45</th>\n",
              "      <th>HKONT_U92</th>\n",
              "      <th>HKONT_V78</th>\n",
              "      <th>HKONT_V92</th>\n",
              "      <th>HKONT_W03</th>\n",
              "      <th>HKONT_W12</th>\n",
              "      <th>HKONT_W62</th>\n",
              "      <th>HKONT_X53</th>\n",
              "      <th>HKONT_Y03</th>\n",
              "      <th>HKONT_Y23</th>\n",
              "      <th>HKONT_Z01</th>\n",
              "      <th>HKONT_Z02</th>\n",
              "    </tr>\n",
              "  </thead>\n",
              "  <tbody>\n",
              "    <tr>\n",
              "      <th>0</th>\n",
              "      <td>0</td>\n",
              "      <td>0</td>\n",
              "      <td>0</td>\n",
              "      <td>0</td>\n",
              "      <td>0</td>\n",
              "      <td>0</td>\n",
              "      <td>0</td>\n",
              "      <td>0</td>\n",
              "      <td>0</td>\n",
              "      <td>0</td>\n",
              "      <td>0</td>\n",
              "      <td>0</td>\n",
              "      <td>0</td>\n",
              "      <td>0</td>\n",
              "      <td>0</td>\n",
              "      <td>1</td>\n",
              "      <td>0</td>\n",
              "      <td>0</td>\n",
              "      <td>0</td>\n",
              "      <td>0</td>\n",
              "      <td>0</td>\n",
              "      <td>0</td>\n",
              "      <td>0</td>\n",
              "      <td>0</td>\n",
              "      <td>0</td>\n",
              "      <td>0</td>\n",
              "      <td>0</td>\n",
              "      <td>0</td>\n",
              "      <td>0</td>\n",
              "      <td>0</td>\n",
              "      <td>0</td>\n",
              "      <td>0</td>\n",
              "      <td>0</td>\n",
              "      <td>0</td>\n",
              "      <td>0</td>\n",
              "      <td>0</td>\n",
              "      <td>0</td>\n",
              "      <td>0</td>\n",
              "      <td>0</td>\n",
              "      <td>0</td>\n",
              "      <td>...</td>\n",
              "      <td>0</td>\n",
              "      <td>0</td>\n",
              "      <td>0</td>\n",
              "      <td>0</td>\n",
              "      <td>0</td>\n",
              "      <td>0</td>\n",
              "      <td>0</td>\n",
              "      <td>0</td>\n",
              "      <td>0</td>\n",
              "      <td>0</td>\n",
              "      <td>0</td>\n",
              "      <td>0</td>\n",
              "      <td>0</td>\n",
              "      <td>0</td>\n",
              "      <td>0</td>\n",
              "      <td>0</td>\n",
              "      <td>0</td>\n",
              "      <td>0</td>\n",
              "      <td>0</td>\n",
              "      <td>0</td>\n",
              "      <td>0</td>\n",
              "      <td>0</td>\n",
              "      <td>0</td>\n",
              "      <td>0</td>\n",
              "      <td>0</td>\n",
              "      <td>0</td>\n",
              "      <td>0</td>\n",
              "      <td>0</td>\n",
              "      <td>0</td>\n",
              "      <td>0</td>\n",
              "      <td>0</td>\n",
              "      <td>0</td>\n",
              "      <td>0</td>\n",
              "      <td>0</td>\n",
              "      <td>0</td>\n",
              "      <td>0</td>\n",
              "      <td>0</td>\n",
              "      <td>0</td>\n",
              "      <td>0</td>\n",
              "      <td>0</td>\n",
              "    </tr>\n",
              "    <tr>\n",
              "      <th>1</th>\n",
              "      <td>0</td>\n",
              "      <td>0</td>\n",
              "      <td>0</td>\n",
              "      <td>0</td>\n",
              "      <td>0</td>\n",
              "      <td>0</td>\n",
              "      <td>0</td>\n",
              "      <td>0</td>\n",
              "      <td>0</td>\n",
              "      <td>0</td>\n",
              "      <td>0</td>\n",
              "      <td>1</td>\n",
              "      <td>0</td>\n",
              "      <td>0</td>\n",
              "      <td>0</td>\n",
              "      <td>0</td>\n",
              "      <td>0</td>\n",
              "      <td>0</td>\n",
              "      <td>0</td>\n",
              "      <td>0</td>\n",
              "      <td>0</td>\n",
              "      <td>0</td>\n",
              "      <td>0</td>\n",
              "      <td>0</td>\n",
              "      <td>0</td>\n",
              "      <td>0</td>\n",
              "      <td>0</td>\n",
              "      <td>0</td>\n",
              "      <td>0</td>\n",
              "      <td>0</td>\n",
              "      <td>0</td>\n",
              "      <td>0</td>\n",
              "      <td>0</td>\n",
              "      <td>0</td>\n",
              "      <td>0</td>\n",
              "      <td>0</td>\n",
              "      <td>0</td>\n",
              "      <td>0</td>\n",
              "      <td>0</td>\n",
              "      <td>0</td>\n",
              "      <td>...</td>\n",
              "      <td>0</td>\n",
              "      <td>0</td>\n",
              "      <td>0</td>\n",
              "      <td>0</td>\n",
              "      <td>0</td>\n",
              "      <td>0</td>\n",
              "      <td>0</td>\n",
              "      <td>0</td>\n",
              "      <td>0</td>\n",
              "      <td>0</td>\n",
              "      <td>0</td>\n",
              "      <td>0</td>\n",
              "      <td>0</td>\n",
              "      <td>0</td>\n",
              "      <td>0</td>\n",
              "      <td>0</td>\n",
              "      <td>0</td>\n",
              "      <td>0</td>\n",
              "      <td>0</td>\n",
              "      <td>0</td>\n",
              "      <td>0</td>\n",
              "      <td>0</td>\n",
              "      <td>0</td>\n",
              "      <td>0</td>\n",
              "      <td>0</td>\n",
              "      <td>0</td>\n",
              "      <td>0</td>\n",
              "      <td>0</td>\n",
              "      <td>0</td>\n",
              "      <td>0</td>\n",
              "      <td>0</td>\n",
              "      <td>0</td>\n",
              "      <td>0</td>\n",
              "      <td>0</td>\n",
              "      <td>0</td>\n",
              "      <td>0</td>\n",
              "      <td>0</td>\n",
              "      <td>0</td>\n",
              "      <td>0</td>\n",
              "      <td>0</td>\n",
              "    </tr>\n",
              "    <tr>\n",
              "      <th>2</th>\n",
              "      <td>0</td>\n",
              "      <td>0</td>\n",
              "      <td>0</td>\n",
              "      <td>0</td>\n",
              "      <td>0</td>\n",
              "      <td>1</td>\n",
              "      <td>0</td>\n",
              "      <td>0</td>\n",
              "      <td>0</td>\n",
              "      <td>0</td>\n",
              "      <td>0</td>\n",
              "      <td>0</td>\n",
              "      <td>0</td>\n",
              "      <td>0</td>\n",
              "      <td>0</td>\n",
              "      <td>0</td>\n",
              "      <td>0</td>\n",
              "      <td>0</td>\n",
              "      <td>0</td>\n",
              "      <td>0</td>\n",
              "      <td>0</td>\n",
              "      <td>0</td>\n",
              "      <td>0</td>\n",
              "      <td>0</td>\n",
              "      <td>0</td>\n",
              "      <td>0</td>\n",
              "      <td>0</td>\n",
              "      <td>0</td>\n",
              "      <td>0</td>\n",
              "      <td>0</td>\n",
              "      <td>0</td>\n",
              "      <td>0</td>\n",
              "      <td>0</td>\n",
              "      <td>0</td>\n",
              "      <td>0</td>\n",
              "      <td>0</td>\n",
              "      <td>0</td>\n",
              "      <td>0</td>\n",
              "      <td>0</td>\n",
              "      <td>0</td>\n",
              "      <td>...</td>\n",
              "      <td>0</td>\n",
              "      <td>0</td>\n",
              "      <td>0</td>\n",
              "      <td>0</td>\n",
              "      <td>0</td>\n",
              "      <td>0</td>\n",
              "      <td>0</td>\n",
              "      <td>0</td>\n",
              "      <td>0</td>\n",
              "      <td>0</td>\n",
              "      <td>0</td>\n",
              "      <td>0</td>\n",
              "      <td>0</td>\n",
              "      <td>0</td>\n",
              "      <td>0</td>\n",
              "      <td>0</td>\n",
              "      <td>0</td>\n",
              "      <td>0</td>\n",
              "      <td>0</td>\n",
              "      <td>0</td>\n",
              "      <td>0</td>\n",
              "      <td>0</td>\n",
              "      <td>0</td>\n",
              "      <td>0</td>\n",
              "      <td>0</td>\n",
              "      <td>0</td>\n",
              "      <td>0</td>\n",
              "      <td>0</td>\n",
              "      <td>0</td>\n",
              "      <td>0</td>\n",
              "      <td>0</td>\n",
              "      <td>0</td>\n",
              "      <td>0</td>\n",
              "      <td>0</td>\n",
              "      <td>0</td>\n",
              "      <td>0</td>\n",
              "      <td>0</td>\n",
              "      <td>0</td>\n",
              "      <td>0</td>\n",
              "      <td>0</td>\n",
              "    </tr>\n",
              "    <tr>\n",
              "      <th>3</th>\n",
              "      <td>0</td>\n",
              "      <td>0</td>\n",
              "      <td>0</td>\n",
              "      <td>0</td>\n",
              "      <td>0</td>\n",
              "      <td>0</td>\n",
              "      <td>0</td>\n",
              "      <td>0</td>\n",
              "      <td>0</td>\n",
              "      <td>0</td>\n",
              "      <td>0</td>\n",
              "      <td>0</td>\n",
              "      <td>0</td>\n",
              "      <td>0</td>\n",
              "      <td>0</td>\n",
              "      <td>1</td>\n",
              "      <td>0</td>\n",
              "      <td>0</td>\n",
              "      <td>0</td>\n",
              "      <td>0</td>\n",
              "      <td>0</td>\n",
              "      <td>0</td>\n",
              "      <td>0</td>\n",
              "      <td>0</td>\n",
              "      <td>0</td>\n",
              "      <td>0</td>\n",
              "      <td>0</td>\n",
              "      <td>0</td>\n",
              "      <td>0</td>\n",
              "      <td>0</td>\n",
              "      <td>0</td>\n",
              "      <td>0</td>\n",
              "      <td>0</td>\n",
              "      <td>0</td>\n",
              "      <td>0</td>\n",
              "      <td>0</td>\n",
              "      <td>0</td>\n",
              "      <td>0</td>\n",
              "      <td>0</td>\n",
              "      <td>0</td>\n",
              "      <td>...</td>\n",
              "      <td>0</td>\n",
              "      <td>0</td>\n",
              "      <td>0</td>\n",
              "      <td>0</td>\n",
              "      <td>0</td>\n",
              "      <td>0</td>\n",
              "      <td>0</td>\n",
              "      <td>0</td>\n",
              "      <td>0</td>\n",
              "      <td>0</td>\n",
              "      <td>0</td>\n",
              "      <td>0</td>\n",
              "      <td>0</td>\n",
              "      <td>0</td>\n",
              "      <td>0</td>\n",
              "      <td>0</td>\n",
              "      <td>0</td>\n",
              "      <td>0</td>\n",
              "      <td>0</td>\n",
              "      <td>0</td>\n",
              "      <td>0</td>\n",
              "      <td>0</td>\n",
              "      <td>0</td>\n",
              "      <td>0</td>\n",
              "      <td>0</td>\n",
              "      <td>0</td>\n",
              "      <td>0</td>\n",
              "      <td>0</td>\n",
              "      <td>0</td>\n",
              "      <td>0</td>\n",
              "      <td>0</td>\n",
              "      <td>0</td>\n",
              "      <td>0</td>\n",
              "      <td>0</td>\n",
              "      <td>0</td>\n",
              "      <td>0</td>\n",
              "      <td>0</td>\n",
              "      <td>0</td>\n",
              "      <td>0</td>\n",
              "      <td>0</td>\n",
              "    </tr>\n",
              "    <tr>\n",
              "      <th>4</th>\n",
              "      <td>0</td>\n",
              "      <td>0</td>\n",
              "      <td>0</td>\n",
              "      <td>0</td>\n",
              "      <td>1</td>\n",
              "      <td>0</td>\n",
              "      <td>0</td>\n",
              "      <td>0</td>\n",
              "      <td>0</td>\n",
              "      <td>0</td>\n",
              "      <td>0</td>\n",
              "      <td>0</td>\n",
              "      <td>0</td>\n",
              "      <td>0</td>\n",
              "      <td>0</td>\n",
              "      <td>0</td>\n",
              "      <td>0</td>\n",
              "      <td>0</td>\n",
              "      <td>0</td>\n",
              "      <td>0</td>\n",
              "      <td>0</td>\n",
              "      <td>0</td>\n",
              "      <td>0</td>\n",
              "      <td>0</td>\n",
              "      <td>0</td>\n",
              "      <td>0</td>\n",
              "      <td>0</td>\n",
              "      <td>0</td>\n",
              "      <td>0</td>\n",
              "      <td>0</td>\n",
              "      <td>0</td>\n",
              "      <td>0</td>\n",
              "      <td>0</td>\n",
              "      <td>0</td>\n",
              "      <td>0</td>\n",
              "      <td>0</td>\n",
              "      <td>0</td>\n",
              "      <td>0</td>\n",
              "      <td>0</td>\n",
              "      <td>0</td>\n",
              "      <td>...</td>\n",
              "      <td>0</td>\n",
              "      <td>0</td>\n",
              "      <td>0</td>\n",
              "      <td>0</td>\n",
              "      <td>0</td>\n",
              "      <td>0</td>\n",
              "      <td>0</td>\n",
              "      <td>0</td>\n",
              "      <td>0</td>\n",
              "      <td>0</td>\n",
              "      <td>0</td>\n",
              "      <td>0</td>\n",
              "      <td>0</td>\n",
              "      <td>0</td>\n",
              "      <td>0</td>\n",
              "      <td>0</td>\n",
              "      <td>0</td>\n",
              "      <td>0</td>\n",
              "      <td>0</td>\n",
              "      <td>0</td>\n",
              "      <td>0</td>\n",
              "      <td>0</td>\n",
              "      <td>0</td>\n",
              "      <td>0</td>\n",
              "      <td>0</td>\n",
              "      <td>0</td>\n",
              "      <td>0</td>\n",
              "      <td>0</td>\n",
              "      <td>0</td>\n",
              "      <td>0</td>\n",
              "      <td>0</td>\n",
              "      <td>0</td>\n",
              "      <td>0</td>\n",
              "      <td>0</td>\n",
              "      <td>0</td>\n",
              "      <td>0</td>\n",
              "      <td>0</td>\n",
              "      <td>0</td>\n",
              "      <td>0</td>\n",
              "      <td>0</td>\n",
              "    </tr>\n",
              "    <tr>\n",
              "      <th>5</th>\n",
              "      <td>0</td>\n",
              "      <td>0</td>\n",
              "      <td>0</td>\n",
              "      <td>0</td>\n",
              "      <td>0</td>\n",
              "      <td>0</td>\n",
              "      <td>0</td>\n",
              "      <td>0</td>\n",
              "      <td>0</td>\n",
              "      <td>0</td>\n",
              "      <td>1</td>\n",
              "      <td>0</td>\n",
              "      <td>0</td>\n",
              "      <td>0</td>\n",
              "      <td>0</td>\n",
              "      <td>0</td>\n",
              "      <td>0</td>\n",
              "      <td>0</td>\n",
              "      <td>0</td>\n",
              "      <td>0</td>\n",
              "      <td>0</td>\n",
              "      <td>0</td>\n",
              "      <td>0</td>\n",
              "      <td>0</td>\n",
              "      <td>0</td>\n",
              "      <td>0</td>\n",
              "      <td>0</td>\n",
              "      <td>0</td>\n",
              "      <td>0</td>\n",
              "      <td>0</td>\n",
              "      <td>0</td>\n",
              "      <td>0</td>\n",
              "      <td>0</td>\n",
              "      <td>0</td>\n",
              "      <td>0</td>\n",
              "      <td>0</td>\n",
              "      <td>0</td>\n",
              "      <td>0</td>\n",
              "      <td>0</td>\n",
              "      <td>0</td>\n",
              "      <td>...</td>\n",
              "      <td>0</td>\n",
              "      <td>0</td>\n",
              "      <td>0</td>\n",
              "      <td>0</td>\n",
              "      <td>0</td>\n",
              "      <td>0</td>\n",
              "      <td>0</td>\n",
              "      <td>0</td>\n",
              "      <td>0</td>\n",
              "      <td>0</td>\n",
              "      <td>0</td>\n",
              "      <td>0</td>\n",
              "      <td>0</td>\n",
              "      <td>0</td>\n",
              "      <td>0</td>\n",
              "      <td>0</td>\n",
              "      <td>0</td>\n",
              "      <td>0</td>\n",
              "      <td>0</td>\n",
              "      <td>0</td>\n",
              "      <td>0</td>\n",
              "      <td>0</td>\n",
              "      <td>0</td>\n",
              "      <td>0</td>\n",
              "      <td>0</td>\n",
              "      <td>0</td>\n",
              "      <td>0</td>\n",
              "      <td>0</td>\n",
              "      <td>0</td>\n",
              "      <td>0</td>\n",
              "      <td>0</td>\n",
              "      <td>0</td>\n",
              "      <td>0</td>\n",
              "      <td>0</td>\n",
              "      <td>0</td>\n",
              "      <td>0</td>\n",
              "      <td>0</td>\n",
              "      <td>0</td>\n",
              "      <td>0</td>\n",
              "      <td>0</td>\n",
              "    </tr>\n",
              "    <tr>\n",
              "      <th>6</th>\n",
              "      <td>0</td>\n",
              "      <td>0</td>\n",
              "      <td>0</td>\n",
              "      <td>0</td>\n",
              "      <td>0</td>\n",
              "      <td>1</td>\n",
              "      <td>0</td>\n",
              "      <td>0</td>\n",
              "      <td>0</td>\n",
              "      <td>0</td>\n",
              "      <td>0</td>\n",
              "      <td>0</td>\n",
              "      <td>0</td>\n",
              "      <td>0</td>\n",
              "      <td>0</td>\n",
              "      <td>0</td>\n",
              "      <td>0</td>\n",
              "      <td>0</td>\n",
              "      <td>0</td>\n",
              "      <td>0</td>\n",
              "      <td>0</td>\n",
              "      <td>0</td>\n",
              "      <td>0</td>\n",
              "      <td>0</td>\n",
              "      <td>0</td>\n",
              "      <td>0</td>\n",
              "      <td>0</td>\n",
              "      <td>0</td>\n",
              "      <td>0</td>\n",
              "      <td>0</td>\n",
              "      <td>0</td>\n",
              "      <td>0</td>\n",
              "      <td>0</td>\n",
              "      <td>0</td>\n",
              "      <td>0</td>\n",
              "      <td>0</td>\n",
              "      <td>0</td>\n",
              "      <td>0</td>\n",
              "      <td>0</td>\n",
              "      <td>0</td>\n",
              "      <td>...</td>\n",
              "      <td>0</td>\n",
              "      <td>0</td>\n",
              "      <td>0</td>\n",
              "      <td>0</td>\n",
              "      <td>0</td>\n",
              "      <td>0</td>\n",
              "      <td>0</td>\n",
              "      <td>0</td>\n",
              "      <td>0</td>\n",
              "      <td>0</td>\n",
              "      <td>0</td>\n",
              "      <td>0</td>\n",
              "      <td>0</td>\n",
              "      <td>0</td>\n",
              "      <td>0</td>\n",
              "      <td>0</td>\n",
              "      <td>0</td>\n",
              "      <td>0</td>\n",
              "      <td>0</td>\n",
              "      <td>0</td>\n",
              "      <td>0</td>\n",
              "      <td>0</td>\n",
              "      <td>0</td>\n",
              "      <td>0</td>\n",
              "      <td>0</td>\n",
              "      <td>0</td>\n",
              "      <td>0</td>\n",
              "      <td>0</td>\n",
              "      <td>0</td>\n",
              "      <td>0</td>\n",
              "      <td>0</td>\n",
              "      <td>0</td>\n",
              "      <td>0</td>\n",
              "      <td>0</td>\n",
              "      <td>0</td>\n",
              "      <td>0</td>\n",
              "      <td>0</td>\n",
              "      <td>0</td>\n",
              "      <td>0</td>\n",
              "      <td>0</td>\n",
              "    </tr>\n",
              "    <tr>\n",
              "      <th>7</th>\n",
              "      <td>0</td>\n",
              "      <td>0</td>\n",
              "      <td>0</td>\n",
              "      <td>0</td>\n",
              "      <td>1</td>\n",
              "      <td>0</td>\n",
              "      <td>0</td>\n",
              "      <td>0</td>\n",
              "      <td>0</td>\n",
              "      <td>0</td>\n",
              "      <td>0</td>\n",
              "      <td>0</td>\n",
              "      <td>0</td>\n",
              "      <td>0</td>\n",
              "      <td>0</td>\n",
              "      <td>0</td>\n",
              "      <td>0</td>\n",
              "      <td>0</td>\n",
              "      <td>0</td>\n",
              "      <td>0</td>\n",
              "      <td>0</td>\n",
              "      <td>0</td>\n",
              "      <td>0</td>\n",
              "      <td>0</td>\n",
              "      <td>0</td>\n",
              "      <td>0</td>\n",
              "      <td>0</td>\n",
              "      <td>0</td>\n",
              "      <td>0</td>\n",
              "      <td>0</td>\n",
              "      <td>0</td>\n",
              "      <td>0</td>\n",
              "      <td>0</td>\n",
              "      <td>0</td>\n",
              "      <td>0</td>\n",
              "      <td>0</td>\n",
              "      <td>0</td>\n",
              "      <td>0</td>\n",
              "      <td>0</td>\n",
              "      <td>0</td>\n",
              "      <td>...</td>\n",
              "      <td>0</td>\n",
              "      <td>0</td>\n",
              "      <td>0</td>\n",
              "      <td>0</td>\n",
              "      <td>0</td>\n",
              "      <td>0</td>\n",
              "      <td>0</td>\n",
              "      <td>0</td>\n",
              "      <td>0</td>\n",
              "      <td>0</td>\n",
              "      <td>0</td>\n",
              "      <td>0</td>\n",
              "      <td>0</td>\n",
              "      <td>0</td>\n",
              "      <td>0</td>\n",
              "      <td>0</td>\n",
              "      <td>0</td>\n",
              "      <td>0</td>\n",
              "      <td>0</td>\n",
              "      <td>0</td>\n",
              "      <td>0</td>\n",
              "      <td>0</td>\n",
              "      <td>0</td>\n",
              "      <td>0</td>\n",
              "      <td>0</td>\n",
              "      <td>0</td>\n",
              "      <td>0</td>\n",
              "      <td>0</td>\n",
              "      <td>0</td>\n",
              "      <td>0</td>\n",
              "      <td>0</td>\n",
              "      <td>0</td>\n",
              "      <td>0</td>\n",
              "      <td>0</td>\n",
              "      <td>0</td>\n",
              "      <td>0</td>\n",
              "      <td>0</td>\n",
              "      <td>0</td>\n",
              "      <td>0</td>\n",
              "      <td>0</td>\n",
              "    </tr>\n",
              "    <tr>\n",
              "      <th>8</th>\n",
              "      <td>0</td>\n",
              "      <td>0</td>\n",
              "      <td>0</td>\n",
              "      <td>0</td>\n",
              "      <td>0</td>\n",
              "      <td>0</td>\n",
              "      <td>0</td>\n",
              "      <td>0</td>\n",
              "      <td>0</td>\n",
              "      <td>0</td>\n",
              "      <td>0</td>\n",
              "      <td>0</td>\n",
              "      <td>0</td>\n",
              "      <td>0</td>\n",
              "      <td>0</td>\n",
              "      <td>1</td>\n",
              "      <td>0</td>\n",
              "      <td>0</td>\n",
              "      <td>0</td>\n",
              "      <td>0</td>\n",
              "      <td>0</td>\n",
              "      <td>0</td>\n",
              "      <td>0</td>\n",
              "      <td>0</td>\n",
              "      <td>0</td>\n",
              "      <td>0</td>\n",
              "      <td>0</td>\n",
              "      <td>0</td>\n",
              "      <td>0</td>\n",
              "      <td>0</td>\n",
              "      <td>0</td>\n",
              "      <td>0</td>\n",
              "      <td>0</td>\n",
              "      <td>0</td>\n",
              "      <td>0</td>\n",
              "      <td>0</td>\n",
              "      <td>0</td>\n",
              "      <td>0</td>\n",
              "      <td>0</td>\n",
              "      <td>0</td>\n",
              "      <td>...</td>\n",
              "      <td>0</td>\n",
              "      <td>0</td>\n",
              "      <td>0</td>\n",
              "      <td>0</td>\n",
              "      <td>0</td>\n",
              "      <td>0</td>\n",
              "      <td>0</td>\n",
              "      <td>0</td>\n",
              "      <td>0</td>\n",
              "      <td>0</td>\n",
              "      <td>0</td>\n",
              "      <td>0</td>\n",
              "      <td>0</td>\n",
              "      <td>0</td>\n",
              "      <td>0</td>\n",
              "      <td>0</td>\n",
              "      <td>0</td>\n",
              "      <td>0</td>\n",
              "      <td>0</td>\n",
              "      <td>0</td>\n",
              "      <td>0</td>\n",
              "      <td>0</td>\n",
              "      <td>0</td>\n",
              "      <td>0</td>\n",
              "      <td>0</td>\n",
              "      <td>0</td>\n",
              "      <td>0</td>\n",
              "      <td>0</td>\n",
              "      <td>0</td>\n",
              "      <td>0</td>\n",
              "      <td>0</td>\n",
              "      <td>0</td>\n",
              "      <td>0</td>\n",
              "      <td>0</td>\n",
              "      <td>0</td>\n",
              "      <td>0</td>\n",
              "      <td>0</td>\n",
              "      <td>0</td>\n",
              "      <td>0</td>\n",
              "      <td>0</td>\n",
              "    </tr>\n",
              "    <tr>\n",
              "      <th>9</th>\n",
              "      <td>0</td>\n",
              "      <td>0</td>\n",
              "      <td>0</td>\n",
              "      <td>0</td>\n",
              "      <td>1</td>\n",
              "      <td>0</td>\n",
              "      <td>0</td>\n",
              "      <td>0</td>\n",
              "      <td>0</td>\n",
              "      <td>0</td>\n",
              "      <td>0</td>\n",
              "      <td>0</td>\n",
              "      <td>0</td>\n",
              "      <td>0</td>\n",
              "      <td>0</td>\n",
              "      <td>0</td>\n",
              "      <td>0</td>\n",
              "      <td>0</td>\n",
              "      <td>0</td>\n",
              "      <td>0</td>\n",
              "      <td>0</td>\n",
              "      <td>0</td>\n",
              "      <td>0</td>\n",
              "      <td>0</td>\n",
              "      <td>0</td>\n",
              "      <td>0</td>\n",
              "      <td>0</td>\n",
              "      <td>0</td>\n",
              "      <td>0</td>\n",
              "      <td>0</td>\n",
              "      <td>0</td>\n",
              "      <td>0</td>\n",
              "      <td>0</td>\n",
              "      <td>0</td>\n",
              "      <td>0</td>\n",
              "      <td>0</td>\n",
              "      <td>0</td>\n",
              "      <td>0</td>\n",
              "      <td>0</td>\n",
              "      <td>0</td>\n",
              "      <td>...</td>\n",
              "      <td>0</td>\n",
              "      <td>0</td>\n",
              "      <td>0</td>\n",
              "      <td>0</td>\n",
              "      <td>0</td>\n",
              "      <td>0</td>\n",
              "      <td>0</td>\n",
              "      <td>0</td>\n",
              "      <td>0</td>\n",
              "      <td>0</td>\n",
              "      <td>0</td>\n",
              "      <td>0</td>\n",
              "      <td>0</td>\n",
              "      <td>0</td>\n",
              "      <td>0</td>\n",
              "      <td>0</td>\n",
              "      <td>0</td>\n",
              "      <td>0</td>\n",
              "      <td>0</td>\n",
              "      <td>0</td>\n",
              "      <td>0</td>\n",
              "      <td>0</td>\n",
              "      <td>0</td>\n",
              "      <td>0</td>\n",
              "      <td>0</td>\n",
              "      <td>0</td>\n",
              "      <td>0</td>\n",
              "      <td>0</td>\n",
              "      <td>0</td>\n",
              "      <td>0</td>\n",
              "      <td>0</td>\n",
              "      <td>0</td>\n",
              "      <td>0</td>\n",
              "      <td>0</td>\n",
              "      <td>0</td>\n",
              "      <td>0</td>\n",
              "      <td>0</td>\n",
              "      <td>0</td>\n",
              "      <td>0</td>\n",
              "      <td>0</td>\n",
              "    </tr>\n",
              "  </tbody>\n",
              "</table>\n",
              "<p>10 rows × 382 columns</p>\n",
              "</div>"
            ],
            "text/plain": [
              "   KTOSL_A19  KTOSL_B06  KTOSL_B12  ...  HKONT_Y23  HKONT_Z01  HKONT_Z02\n",
              "0          0          0          0  ...          0          0          0\n",
              "1          0          0          0  ...          0          0          0\n",
              "2          0          0          0  ...          0          0          0\n",
              "3          0          0          0  ...          0          0          0\n",
              "4          0          0          0  ...          0          0          0\n",
              "5          0          0          0  ...          0          0          0\n",
              "6          0          0          0  ...          0          0          0\n",
              "7          0          0          0  ...          0          0          0\n",
              "8          0          0          0  ...          0          0          0\n",
              "9          0          0          0  ...          0          0          0\n",
              "\n",
              "[10 rows x 382 columns]"
            ]
          },
          "metadata": {
            "tags": []
          },
          "execution_count": 19
        }
      ]
    },
    {
      "cell_type": "markdown",
      "metadata": {
        "id": "vGMLkSP9MpFE",
        "colab_type": "text"
      },
      "source": [
        "### 3.2 Pre-Processing of Numerical Transaction Attributes"
      ]
    },
    {
      "cell_type": "markdown",
      "metadata": {
        "id": "ZRRpp0MkMpFF",
        "colab_type": "text"
      },
      "source": [
        "Let's now inspect the distributions of the two numerical attributes contained in the transactional dataset namely, the (1) local currency amount `DMBTR` and the (2) document currency amount `WRBTR`:"
      ]
    },
    {
      "cell_type": "code",
      "metadata": {
        "id": "AfPXwKtEMpFG",
        "colab_type": "code",
        "outputId": "468cca14-3220-49cf-e6eb-07b1176a5d18",
        "colab": {
          "base_uri": "https://localhost:8080/",
          "height": 312
        }
      },
      "source": [
        "# plot the log-scaled \"DMBTR\" as well as the \"WRBTR\" attribute value distribution\n",
        "fig, ax = plt.subplots(1,2)\n",
        "fig.set_figwidth(20)\n",
        "\n",
        "# plot distribution of the local amount attribute\n",
        "g = sns.distplot(ori_dataset['DMBTR'].tolist(), ax=ax[0])\n",
        "g.set_title('Distribution of DMBTR amount values')\n",
        "\n",
        "# plot distribution of the document amount attribute\n",
        "g = sns.distplot(ori_dataset['WRBTR'].tolist(), ax=ax[1])\n",
        "g.set_title('Distribution of WRBTR amount values')"
      ],
      "execution_count": 0,
      "outputs": [
        {
          "output_type": "execute_result",
          "data": {
            "text/plain": [
              "Text(0.5, 1.0, 'Distribution of WRBTR amount values')"
            ]
          },
          "metadata": {
            "tags": []
          },
          "execution_count": 20
        },
        {
          "output_type": "display_data",
          "data": {
            "image/png": "[encoded data removed]",
            "text/plain": [
              "<Figure size 1440x288 with 2 Axes>"
            ]
          },
          "metadata": {
            "tags": []
          }
        }
      ]
    },
    {
      "cell_type": "markdown",
      "metadata": {
        "id": "0wjAzzBfMpFK",
        "colab_type": "text"
      },
      "source": [
        "As expected, it can be observed, that for both attributes the distributions of amount values are heavy tailed. In order to approach faster a potential global minimum scaling and normalization of numerical input values is good a practice. Therefore, we first log-scale both variables and second min-max normalize the scaled amounts to the interval [0, 1]."
      ]
    },
    {
      "cell_type": "code",
      "metadata": {
        "id": "Iufl9-4LMpFL",
        "colab_type": "code",
        "colab": {}
      },
      "source": [
        "# select \"DMBTR\" vs. \"WRBTR\" attribute\n",
        "numeric_attr_names = ['DMBTR', 'WRBTR']\n",
        "\n",
        "# add a small epsilon to eliminate zero values from data for log scaling\n",
        "numeric_attr = ori_dataset[numeric_attr_names] + 1e-7\n",
        "numeric_attr = numeric_attr.apply(np.log)\n",
        "\n",
        "# normalize all numeric attributes to the range [0,1]\n",
        "ori_dataset_numeric_attr = (numeric_attr - numeric_attr.min()) / (numeric_attr.max() - numeric_attr.min())"
      ],
      "execution_count": 0,
      "outputs": []
    },
    {
      "cell_type": "markdown",
      "metadata": {
        "id": "yfWZhtxnMpFO",
        "colab_type": "text"
      },
      "source": [
        "Let's now visualize the log-scaled and min-max normalized distributions of both attributes:"
      ]
    },
    {
      "cell_type": "code",
      "metadata": {
        "id": "95QSR7rEMpFP",
        "colab_type": "code",
        "outputId": "7aad9323-84b8-4396-de22-0fd5e13e9313",
        "colab": {
          "base_uri": "https://localhost:8080/",
          "height": 387
        }
      },
      "source": [
        "# append 'label' attribute for colour distinction\n",
        "numeric_attr_vis = ori_dataset_numeric_attr.copy()\n",
        "numeric_attr_vis['label'] = label\n",
        "\n",
        "# plot the log-scaled and min-max normalized numeric attributes\n",
        "g = sns.pairplot(data=numeric_attr_vis, vars=numeric_attr_names, hue='label')\n",
        "g.fig.suptitle('Distribution of DMBTR vs. WRBTR amount values')\n",
        "g.fig.set_size_inches(15, 5)"
      ],
      "execution_count": 0,
      "outputs": [
        {
          "output_type": "display_data",
          "data": {
            "image/png": "[encoded data removed]",
            "text/plain": [
              "<Figure size 1080x360 with 6 Axes>"
            ]
          },
          "metadata": {
            "tags": []
          }
        }
      ]
    },
    {
      "cell_type": "markdown",
      "metadata": {
        "id": "AS3L-FIgMpFR",
        "colab_type": "text"
      },
      "source": [
        "Ok, as anticipated the numeric attribute values of the \"global\" anomalies (green) fall outside the range of the regular amount distributions due to their unusual high amount values. In contrast, the numeric attribute values of the \"local\" anomalies (orange) are much more commingled within the regular transaction amounts."
      ]
    },
    {
      "cell_type": "markdown",
      "metadata": {
        "id": "MbUypqZGMpFS",
        "colab_type": "text"
      },
      "source": [
        "### 3.3 Merge Categorical and Numerical Transaction Attributes"
      ]
    },
    {
      "cell_type": "markdown",
      "metadata": {
        "id": "bK3chUa2MpFT",
        "colab_type": "text"
      },
      "source": [
        "Finally, we merge both pre-processed numerical and categorical attributes into a single dataset that we will use for training our deep autoencoder neural network (explained an implemented in the following section 4.):"
      ]
    },
    {
      "cell_type": "code",
      "metadata": {
        "id": "_TuRO9HgMpFU",
        "colab_type": "code",
        "colab": {}
      },
      "source": [
        "# merge categorical and numeric subsets\n",
        "ori_subset_transformed = pd.concat([ori_dataset_categ_transformed, ori_dataset_numeric_attr], axis = 1)"
      ],
      "execution_count": 0,
      "outputs": []
    },
    {
      "cell_type": "markdown",
      "metadata": {
        "id": "S-YF67NhMpFX",
        "colab_type": "text"
      },
      "source": [
        "Now, let's again have a look at the dimensionality of the dataset after we applied the distinct pre-processing steps to the attributes:"
      ]
    },
    {
      "cell_type": "code",
      "metadata": {
        "id": "h2RxaYxbMpFY",
        "colab_type": "code",
        "outputId": "f6d9abc0-6d07-413a-f228-961b67ee4988",
        "colab": {
          "base_uri": "https://localhost:8080/",
          "height": 35
        }
      },
      "source": [
        "# inspect final dimensions of pre-processed transactional data\n",
        "ori_subset_transformed.shape"
      ],
      "execution_count": 0,
      "outputs": [
        {
          "output_type": "execute_result",
          "data": {
            "text/plain": [
              "(533009, 384)"
            ]
          },
          "metadata": {
            "tags": []
          },
          "execution_count": 24
        }
      ]
    },
    {
      "cell_type": "markdown",
      "metadata": {
        "id": "v31PDaK-MpFa",
        "colab_type": "text"
      },
      "source": [
        " "
      ]
    },
    {
      "cell_type": "markdown",
      "metadata": {
        "id": "5nhJ4gW0MpFc",
        "colab_type": "text"
      },
      "source": [
        "Ok, upon completion of all the pre-processing steps we should end up with an encoded dataset consisting of a total number of 533,009 records (rows) and **618 encoded attributes** (columns). Let's keep the number number of columns in mind since it will define the dimensionality of the input- and output-layer of our deep autoencoder network which we will now implement in the following section."
      ]
    },
    {
      "cell_type": "markdown",
      "metadata": {
        "id": "ih2vSvdrMpFe",
        "colab_type": "text"
      },
      "source": [
        "## 4. Autoencoder Neural Networks (AENNs)"
      ]
    },
    {
      "cell_type": "markdown",
      "metadata": {
        "id": "hS6O5dpQMpFe",
        "colab_type": "text"
      },
      "source": [
        "The objective of this section is to familiarize ourselves with the underlying idea and concepts of building a deep autoencoder neural network (AENN). We will cover the major building blocks and the specific network structure of AENNs as well as an exemplary implementation using the open source machine learning library PyTorch."
      ]
    },
    {
      "cell_type": "markdown",
      "metadata": {
        "id": "ygWx2O2jMpFf",
        "colab_type": "text"
      },
      "source": [
        "### 4.1 Autoencoder Neural Network Architecture"
      ]
    },
    {
      "cell_type": "markdown",
      "metadata": {
        "id": "ev3DluKBMpFh",
        "colab_type": "text"
      },
      "source": [
        "AENNs or \"Replicator Neural Networks\" are a variant of general feed-forward neural networks that have been initially introduced by Hinton and Salakhutdinov in [6]. AENNs usually comprise a **symmetrical network architecture** as well as a central hidden layer, referred to as **\"latent\"** or **\"coding\" layer**, of lower dimensionality. The design is chosen intentionally since the training objective of an AENN is to reconstruct its input in a \"self-supervised\" manner. \n",
        "\n",
        "**Figure 3** below illustrates a schematic view of an autoencoder neural network:"
      ]
    },
    {
      "cell_type": "markdown",
      "metadata": {
        "id": "-XgqYrWIMpFj",
        "colab_type": "text"
      },
      "source": [
        "<img align=\"middle\" style=\"max-width: 600px; height: auto\" src=\"https://github.com/GitiHubi/deepAI/blob/master/images/autoencoder.png?raw=1\">"
      ]
    },
    {
      "cell_type": "markdown",
      "metadata": {
        "id": "1dC5SixPMpFl",
        "colab_type": "text"
      },
      "source": [
        "**Figure 3:** Schematic view of an autoencoder network comprised of two non-linear mappings (fully connected feed forward neural networks) referred to as encoder $f_\\theta: \\mathbb{R}^{dx} \\mapsto \\mathbb{R}^{dz}$ and decoder $g_\\theta: \\mathbb{R}^{dz} \\mapsto \\mathbb{R}^{dx}$."
      ]
    },
    {
      "cell_type": "markdown",
      "metadata": {
        "id": "jit9jiS1MpFm",
        "colab_type": "text"
      },
      "source": [
        "Furthermore, AENNs can be interpreted as \"lossy\" data **compression algorithms**. They are \"lossy\" in a sense that the reconstructed outputs will be degraded compared to the original inputs. The difference between the original input $x^i$ and its reconstruction $\\hat{x}^i$ is referred to as **reconstruction error**. In general, AENNs encompass three major building blocks:\n",
        "\n",
        "\n",
        ">   1. an encoding mapping function $f_\\theta$, \n",
        ">   2. a decoding mapping function $g_\\theta$, \n",
        ">   3. and a loss function $\\mathcal{L_{\\theta}}$.\n",
        "\n",
        "Most commonly the encoder and the decoder mapping functions consist of **several layers of neurons followed by a non-linear function** and shared parameters $\\theta$. The encoder mapping $f_\\theta(\\cdot)$ maps an input vector (e.g. an \"one-hot\" encoded transaction) $x^i$ to a compressed representation $z^i$ referred to as latent space $Z$. This hidden representation $z^i$ is then mapped back by the decoder $g_\\theta(\\cdot)$ to a re-constructed vector $\\hat{x}^i$ of the original input space (e.g. the re-constructed encoded transaction). Formally, the nonlinear mappings of the encoder- and the decoder-function can be defined by:"
      ]
    },
    {
      "cell_type": "markdown",
      "metadata": {
        "id": "vzx8XxTkMpFn",
        "colab_type": "text"
      },
      "source": [
        "<center>$f_\\theta(x^i) = s(Wx^i + b)$, and $g_\\theta(z^i) = s′(W′z^i + d)$,</center>"
      ]
    },
    {
      "cell_type": "markdown",
      "metadata": {
        "id": "j6CeqvYyMpFq",
        "colab_type": "text"
      },
      "source": [
        "where $s$ and $s′$ denote non-linear activations with model parameters $\\theta = \\{W, b, W', d\\}$, $W \\in \\mathbb{R}^{d_x \\times d_z}, W' \\in \\mathbb{R}^{d_z \\times d_y}$ are weight matrices and $b \\in \\mathbb{R}^{dx}$, $d \\in \\mathbb{R}^{dz}$ are offset bias vectors."
      ]
    },
    {
      "cell_type": "markdown",
      "metadata": {
        "id": "Qwn3m_i5MpFq",
        "colab_type": "text"
      },
      "source": [
        "### 4.2 Autoencoder Neural Network Implementation"
      ]
    },
    {
      "cell_type": "markdown",
      "metadata": {
        "id": "fPx8YXecMpFr",
        "colab_type": "text"
      },
      "source": [
        "Now, let's start implementing an AENN by first implementing the encoder network using PyTorch. For the encoder, we aim to implement a network consisting of **nine fully-connected layers**. Furthermore, the encoder is specified by the following number of neurons per layer: \"618-256-128-64-32-16-8-4-3\". Meaning the first layer consists of 618 neurons (specified by the dimensionality of our input data), the second layer of 256 neurons and the subsequent layers of 128, 64, 32, 16, 8, 4 and 3 neurons respectively."
      ]
    },
    {
      "cell_type": "markdown",
      "metadata": {
        "id": "V0fyn9LTMpFs",
        "colab_type": "text"
      },
      "source": [
        "Some elements of the encoder network code below should be given particular attention:\n",
        "\n",
        ">- `self.encoder_Lx`: defines the linear transformation of the layer applied to the incoming input: $Wx + b$.\n",
        ">- `nn.init.xavier_uniform`: inits the layer weights using a uniform distribution according to [9]. \n",
        ">- `self.encoder_Rx`: defines the non-linear transformation of the layer: $\\sigma(\\cdot)$.\n",
        ">- `self.dropout`: randomly zeros some of the elements of the input tensor with probability $p$ according to [8].\n",
        "\n",
        "We use **\"Leaky ReLUs\"** as introduced by Xu et al. in [7] to avoid \"dying\" non-linearities and to speed up training convergence. Leaky ReLUs allow a small gradient even when a particular neuron is not active. In addition, we include the **\"drop-out\" probability**, as introduced by [8], which defines the probability rate for each neuron to be set to zero at a forward pass to prevent the network from overfitting. However we explore its effect on the model later in the exercise section of the lab. Initially, we set the dropout probability of each neuron to $p=0.0$ (0%), meaning that none of the neuron activiations will be set to zero."
      ]
    },
    {
      "cell_type": "code",
      "metadata": {
        "id": "qQOegkE4MpFt",
        "colab_type": "code",
        "colab": {}
      },
      "source": [
        "# implementation of the encoder network\n",
        "class encoder(nn.Module):\n",
        "\n",
        "    def __init__(self):\n",
        "\n",
        "        super(encoder, self).__init__()\n",
        "\n",
        "        # specify layer 1 - in 618, out 512\n",
        "        self.encoder_L1 = nn.Linear(in_features=ori_subset_transformed.shape[1], out_features=512, bias=True) # add linearity \n",
        "        nn.init.xavier_uniform_(self.encoder_L1.weight) # init weights according to [9]\n",
        "        self.encoder_R1 = nn.LeakyReLU(negative_slope=0.4, inplace=True) # add non-linearity according to [10]\n",
        "\n",
        "        # specify layer 2 - in 512, out 256\n",
        "        self.encoder_L2 = nn.Linear(512, 256, bias=True)\n",
        "        nn.init.xavier_uniform_(self.encoder_L2.weight)\n",
        "        self.encoder_R2 = nn.LeakyReLU(negative_slope=0.4, inplace=True)\n",
        "\n",
        "        # specify layer 3 - in 256, out 128\n",
        "        self.encoder_L3 = nn.Linear(256, 128, bias=True)\n",
        "        nn.init.xavier_uniform_(self.encoder_L3.weight)\n",
        "        self.encoder_R3 = nn.LeakyReLU(negative_slope=0.4, inplace=True)\n",
        "\n",
        "        # specify layer 4 - in 128, out 64\n",
        "        self.encoder_L4 = nn.Linear(128, 64, bias=True)\n",
        "        nn.init.xavier_uniform_(self.encoder_L4.weight)\n",
        "        self.encoder_R4 = nn.LeakyReLU(negative_slope=0.4, inplace=True)\n",
        "\n",
        "        # specify layer 5 - in 64, out 32\n",
        "        self.encoder_L5 = nn.Linear(64, 32, bias=True)\n",
        "        nn.init.xavier_uniform_(self.encoder_L5.weight)\n",
        "        self.encoder_R5 = nn.LeakyReLU(negative_slope=0.4, inplace=True)\n",
        "\n",
        "        # specify layer 6 - in 32, out 16\n",
        "        self.encoder_L6 = nn.Linear(32, 16, bias=True)\n",
        "        nn.init.xavier_uniform_(self.encoder_L6.weight)\n",
        "        self.encoder_R6 = nn.LeakyReLU(negative_slope=0.4, inplace=True)\n",
        "\n",
        "        # specify layer 7 - in 16, out 8\n",
        "        self.encoder_L7 = nn.Linear(16, 8, bias=True)\n",
        "        nn.init.xavier_uniform_(self.encoder_L7.weight)\n",
        "        self.encoder_R7 = nn.LeakyReLU(negative_slope=0.4, inplace=True)\n",
        "\n",
        "        # specify layer 8 - in 8, out 4\n",
        "        self.encoder_L8 = nn.Linear(8, 4, bias=True)\n",
        "        nn.init.xavier_uniform_(self.encoder_L8.weight)\n",
        "        self.encoder_R8 = nn.LeakyReLU(negative_slope=0.4, inplace=True)\n",
        "\n",
        "        # specify layer 9 - in 4, out 3\n",
        "        self.encoder_L9 = nn.Linear(4, 3, bias=True)\n",
        "        nn.init.xavier_uniform_(self.encoder_L9.weight)\n",
        "        self.encoder_R9 = nn.LeakyReLU(negative_slope=0.4, inplace=True)\n",
        "\n",
        "        # init dropout layer with probability p\n",
        "        self.dropout = nn.Dropout(p=0.0, inplace=True)\n",
        "        \n",
        "    def forward(self, x):\n",
        "\n",
        "        # define forward pass through the network\n",
        "        x = self.encoder_R1(self.dropout(self.encoder_L1(x)))\n",
        "        x = self.encoder_R2(self.dropout(self.encoder_L2(x)))\n",
        "        x = self.encoder_R3(self.dropout(self.encoder_L3(x)))\n",
        "        x = self.encoder_R4(self.dropout(self.encoder_L4(x)))\n",
        "        x = self.encoder_R5(self.dropout(self.encoder_L5(x)))\n",
        "        x = self.encoder_R6(self.dropout(self.encoder_L6(x)))\n",
        "        x = self.encoder_R7(self.dropout(self.encoder_L7(x)))\n",
        "        x = self.encoder_R8(self.dropout(self.encoder_L8(x)))\n",
        "        x = self.encoder_R9(self.encoder_L9(x)) # don't apply dropout to the AE bottleneck\n",
        "\n",
        "        return x"
      ],
      "execution_count": 0,
      "outputs": []
    },
    {
      "cell_type": "markdown",
      "metadata": {
        "id": "t0m9FpOpMpFv",
        "colab_type": "text"
      },
      "source": [
        "Now, we are ready to instantiate the encoder model to be trained on the CPU or to be trained on any of the available GPUs (if CUDNN is available and `USE_CUDA` is set to `True`) by execution of the following cell:"
      ]
    },
    {
      "cell_type": "code",
      "metadata": {
        "id": "c0-ba31zMpFx",
        "colab_type": "code",
        "colab": {}
      },
      "source": [
        "# init training network classes / architectures\n",
        "encoder_train = encoder()\n",
        "\n",
        "# push to cuda if cudnn is available\n",
        "if (torch.backends.cudnn.version() != None and USE_CUDA == True):\n",
        "    encoder_train = encoder().cuda()"
      ],
      "execution_count": 0,
      "outputs": []
    },
    {
      "cell_type": "markdown",
      "metadata": {
        "id": "v7JrZzwSMpF0",
        "colab_type": "text"
      },
      "source": [
        "Once the model is initialized we can visualize the model structure and review the implemented network architecture by execution of the following cell:"
      ]
    },
    {
      "cell_type": "code",
      "metadata": {
        "id": "A6isEXgKMpF1",
        "colab_type": "code",
        "outputId": "39224033-c74d-4478-e1b4-0e6d44978d31",
        "colab": {
          "base_uri": "https://localhost:8080/",
          "height": 454
        }
      },
      "source": [
        "# print the initialized architectures\n",
        "now = datetime.utcnow().strftime(\"%Y%m%d-%H:%M:%S\")\n",
        "print('[LOG {}] encoder architecture:\\n\\n{}\\n'.format(now, encoder_train))"
      ],
      "execution_count": 0,
      "outputs": [
        {
          "output_type": "stream",
          "text": [
            "[LOG 20200209-09:30:52] encoder architecture:\n",
            "\n",
            "encoder(\n",
            "  (encoder_L1): Linear(in_features=384, out_features=512, bias=True)\n",
            "  (encoder_R1): LeakyReLU(negative_slope=0.4, inplace=True)\n",
            "  (encoder_L2): Linear(in_features=512, out_features=256, bias=True)\n",
            "  (encoder_R2): LeakyReLU(negative_slope=0.4, inplace=True)\n",
            "  (encoder_L3): Linear(in_features=256, out_features=128, bias=True)\n",
            "  (encoder_R3): LeakyReLU(negative_slope=0.4, inplace=True)\n",
            "  (encoder_L4): Linear(in_features=128, out_features=64, bias=True)\n",
            "  (encoder_R4): LeakyReLU(negative_slope=0.4, inplace=True)\n",
            "  (encoder_L5): Linear(in_features=64, out_features=32, bias=True)\n",
            "  (encoder_R5): LeakyReLU(negative_slope=0.4, inplace=True)\n",
            "  (encoder_L6): Linear(in_features=32, out_features=16, bias=True)\n",
            "  (encoder_R6): LeakyReLU(negative_slope=0.4, inplace=True)\n",
            "  (encoder_L7): Linear(in_features=16, out_features=8, bias=True)\n",
            "  (encoder_R7): LeakyReLU(negative_slope=0.4, inplace=True)\n",
            "  (encoder_L8): Linear(in_features=8, out_features=4, bias=True)\n",
            "  (encoder_R8): LeakyReLU(negative_slope=0.4, inplace=True)\n",
            "  (encoder_L9): Linear(in_features=4, out_features=3, bias=True)\n",
            "  (encoder_R9): LeakyReLU(negative_slope=0.4, inplace=True)\n",
            "  (dropout): Dropout(p=0.0, inplace=True)\n",
            ")\n",
            "\n"
          ],
          "name": "stdout"
        }
      ]
    },
    {
      "cell_type": "markdown",
      "metadata": {
        "id": "X5wQwRKfMpF3",
        "colab_type": "text"
      },
      "source": [
        "Looks, great? Excellent!\n",
        "\n",
        "Let's, now as a next step, complete the AENN by implementing the corresponding decoder network. The decoder also consists of nine fully-connected layers. Futhermore, the decoder network is intended to **symmetrically mirror** the encoder networks architecture by a layer wise inversion \"3-4-8-16-32-64-128-256-618\" of the encoder network layers."
      ]
    },
    {
      "cell_type": "code",
      "metadata": {
        "id": "40-r2bWwMpF4",
        "colab_type": "code",
        "colab": {}
      },
      "source": [
        "# implementation of the decoder network\n",
        "class decoder(nn.Module):\n",
        "\n",
        "    def __init__(self):\n",
        "\n",
        "        super(decoder, self).__init__()\n",
        "\n",
        "        # specify layer 1 - in 3, out 4\n",
        "        self.decoder_L1 = nn.Linear(in_features=3, out_features=4, bias=True) # add linearity \n",
        "        nn.init.xavier_uniform_(self.decoder_L1.weight)  # init weights according to [9]\n",
        "        self.decoder_R1 = nn.LeakyReLU(negative_slope=0.4, inplace=True) # add non-linearity according to [10]\n",
        "\n",
        "        # specify layer 2 - in 4, out 8\n",
        "        self.decoder_L2 = nn.Linear(4, 8, bias=True)\n",
        "        nn.init.xavier_uniform_(self.decoder_L2.weight)\n",
        "        self.decoder_R2 = nn.LeakyReLU(negative_slope=0.4, inplace=True)\n",
        "\n",
        "        # specify layer 3 - in 8, out 16\n",
        "        self.decoder_L3 = nn.Linear(8, 16, bias=True)\n",
        "        nn.init.xavier_uniform_(self.decoder_L3.weight)\n",
        "        self.decoder_R3 = nn.LeakyReLU(negative_slope=0.4, inplace=True)\n",
        "\n",
        "        # specify layer 4 - in 16, out 32\n",
        "        self.decoder_L4 = nn.Linear(16, 32, bias=True)\n",
        "        nn.init.xavier_uniform_(self.decoder_L4.weight)\n",
        "        self.decoder_R4 = nn.LeakyReLU(negative_slope=0.4, inplace=True)\n",
        "\n",
        "        # specify layer 5 - in 32, out 64\n",
        "        self.decoder_L5 = nn.Linear(32, 64, bias=True)\n",
        "        nn.init.xavier_uniform_(self.decoder_L5.weight)\n",
        "        self.decoder_R5 = nn.LeakyReLU(negative_slope=0.4, inplace=True)\n",
        "\n",
        "        # specify layer 6 - in 64, out 128\n",
        "        self.decoder_L6 = nn.Linear(64, 128, bias=True)\n",
        "        nn.init.xavier_uniform_(self.decoder_L6.weight)\n",
        "        self.decoder_R6 = nn.LeakyReLU(negative_slope=0.4, inplace=True)\n",
        "        \n",
        "        # specify layer 7 - in 128, out 256\n",
        "        self.decoder_L7 = nn.Linear(128, 256, bias=True)\n",
        "        nn.init.xavier_uniform_(self.decoder_L7.weight)\n",
        "        self.decoder_R7 = nn.LeakyReLU(negative_slope=0.4, inplace=True)\n",
        "\n",
        "        # specify layer 8 - in 256, out 512\n",
        "        self.decoder_L8 = nn.Linear(256, 512, bias=True)\n",
        "        nn.init.xavier_uniform_(self.decoder_L8.weight)\n",
        "        self.decoder_R8 = nn.LeakyReLU(negative_slope=0.4, inplace=True)\n",
        "\n",
        "        # specify layer 9 - in 512, out 618\n",
        "        self.decoder_L9 = nn.Linear(in_features=512, out_features=ori_subset_transformed.shape[1], bias=True)\n",
        "        nn.init.xavier_uniform_(self.decoder_L9.weight)\n",
        "        self.decoder_R9 = nn.LeakyReLU(negative_slope=0.4, inplace=True)\n",
        "\n",
        "        # init dropout layer with probability p\n",
        "        self.dropout = nn.Dropout(p=0.0, inplace=True)\n",
        "\n",
        "    def forward(self, x):\n",
        "\n",
        "        # define forward pass through the network\n",
        "        x = self.decoder_R1(self.dropout(self.decoder_L1(x)))\n",
        "        x = self.decoder_R2(self.dropout(self.decoder_L2(x)))\n",
        "        x = self.decoder_R3(self.dropout(self.decoder_L3(x)))\n",
        "        x = self.decoder_R4(self.dropout(self.decoder_L4(x)))\n",
        "        x = self.decoder_R5(self.dropout(self.decoder_L5(x)))\n",
        "        x = self.decoder_R6(self.dropout(self.decoder_L6(x)))\n",
        "        x = self.decoder_R7(self.dropout(self.decoder_L7(x)))\n",
        "        x = self.decoder_R8(self.dropout(self.decoder_L8(x)))\n",
        "        x = self.decoder_R9(self.decoder_L9(x)) # don't apply dropout to the AE output\n",
        "        \n",
        "        return x"
      ],
      "execution_count": 0,
      "outputs": []
    },
    {
      "cell_type": "markdown",
      "metadata": {
        "id": "I1iQJB3xMpF7",
        "colab_type": "text"
      },
      "source": [
        "Let's also instantiate the encoder model for CPU or GPU training and convince ourselves that it was successfully initialized by printing and reviewing its architecture by execution of the following cell:"
      ]
    },
    {
      "cell_type": "code",
      "metadata": {
        "id": "OA4jCoBAMpF7",
        "colab_type": "code",
        "outputId": "75450ce3-eb08-4333-a47e-a1abb227464c",
        "colab": {
          "base_uri": "https://localhost:8080/",
          "height": 454
        }
      },
      "source": [
        "# init training network classes / architectures\n",
        "decoder_train = decoder()\n",
        "\n",
        "# push to cuda if cudnn is available\n",
        "if (torch.backends.cudnn.version() != None) and (USE_CUDA == True):\n",
        "    decoder_train = decoder().cuda()\n",
        "    \n",
        "# print the initialized architectures\n",
        "now = datetime.utcnow().strftime(\"%Y%m%d-%H:%M:%S\")\n",
        "print('[LOG {}] decoder architecture:\\n\\n{}\\n'.format(now, decoder_train))"
      ],
      "execution_count": 0,
      "outputs": [
        {
          "output_type": "stream",
          "text": [
            "[LOG 20200209-09:33:58] decoder architecture:\n",
            "\n",
            "decoder(\n",
            "  (decoder_L1): Linear(in_features=3, out_features=4, bias=True)\n",
            "  (decoder_R1): LeakyReLU(negative_slope=0.4, inplace=True)\n",
            "  (decoder_L2): Linear(in_features=4, out_features=8, bias=True)\n",
            "  (decoder_R2): LeakyReLU(negative_slope=0.4, inplace=True)\n",
            "  (decoder_L3): Linear(in_features=8, out_features=16, bias=True)\n",
            "  (decoder_R3): LeakyReLU(negative_slope=0.4, inplace=True)\n",
            "  (decoder_L4): Linear(in_features=16, out_features=32, bias=True)\n",
            "  (decoder_R4): LeakyReLU(negative_slope=0.4, inplace=True)\n",
            "  (decoder_L5): Linear(in_features=32, out_features=64, bias=True)\n",
            "  (decoder_R5): LeakyReLU(negative_slope=0.4, inplace=True)\n",
            "  (decoder_L6): Linear(in_features=64, out_features=128, bias=True)\n",
            "  (decoder_R6): LeakyReLU(negative_slope=0.4, inplace=True)\n",
            "  (decoder_L7): Linear(in_features=128, out_features=256, bias=True)\n",
            "  (decoder_R7): LeakyReLU(negative_slope=0.4, inplace=True)\n",
            "  (decoder_L8): Linear(in_features=256, out_features=512, bias=True)\n",
            "  (decoder_R8): LeakyReLU(negative_slope=0.4, inplace=True)\n",
            "  (decoder_L9): Linear(in_features=512, out_features=384, bias=True)\n",
            "  (decoder_R9): LeakyReLU(negative_slope=0.4, inplace=True)\n",
            "  (dropout): Dropout(p=0.0, inplace=True)\n",
            ")\n",
            "\n"
          ],
          "name": "stdout"
        }
      ]
    },
    {
      "cell_type": "markdown",
      "metadata": {
        "id": "0FH8_68uMpF_",
        "colab_type": "text"
      },
      "source": [
        "Looks like intended? Brilliant!"
      ]
    },
    {
      "cell_type": "markdown",
      "metadata": {
        "id": "oTisIL5BMpGA",
        "colab_type": "text"
      },
      "source": [
        "### 4.3 Autoencoder Neural Network Training"
      ]
    },
    {
      "cell_type": "markdown",
      "metadata": {
        "id": "AU1B3QIgMpGB",
        "colab_type": "text"
      },
      "source": [
        "Now that we have implemented the AENN we are ready to train the network. Prior to starting the training, we need to define an apropriate loss function. Remember, we aim to train our model to learn a set of encoder-decoder model parameters $\\theta$ that minimize the dissimilarity of a given financial transaction $x^{i}$ and its reconstruction $\\hat{x}^{i} = g_\\theta(f_\\theta(x^{i}))$ as faithfully as possible. \n",
        "\n",
        "Thereby, the training objective is to learn a set of optimal shared encoder-decoder model parameters $\\theta^*$ that optimize $\\arg\\min_{\\theta} \\|X - g_\\theta(f_\\theta(X))\\|$ over all transactions or more specifically journal entries $X$. To achieve this optimization objective, one typically minimizes a loss function $\\mathcal{L_{\\theta}}$ as part of the network training. In this lab we use the **binary-cross-entropy error (BCE)** loss, defined by:"
      ]
    },
    {
      "cell_type": "markdown",
      "metadata": {
        "id": "iFZ2YbbFMpGC",
        "colab_type": "text"
      },
      "source": [
        "<center> $\\mathcal{L^{BCE}_{\\theta}}(x^{i};\\hat{x}^{i}) = \\frac{1}{n}\\sum_{i=1}^{n}\\sum_{j=1}^{k} x^{i}_{j} ln(\\hat{x}^{i}_{j}) + (1-x^{i}_{j}) ln(1-\\hat{x}^{i}_{j})$, </center>"
      ]
    },
    {
      "cell_type": "markdown",
      "metadata": {
        "id": "0DpCOewBMpGC",
        "colab_type": "text"
      },
      "source": [
        "for a set of $n$-journal entries $x^{i}$, $i=1,...,n$ and their respective reconstructions $\\hat{x}^{i}$ and all journal entry attributes $j=1,...,k$. During trainig the BCE loss will penalize models that result in a high dissimilarity between input journal entries and their respective reconstructions. \n",
        "\n",
        "Luckily, an implementation of the BCE loss is already available in PyTorch! It can be instantiated \"off-the-shelf\" via execution of the following PyTorch command:"
      ]
    },
    {
      "cell_type": "code",
      "metadata": {
        "id": "DO3_0GB2MpGD",
        "colab_type": "code",
        "colab": {}
      },
      "source": [
        "# define the optimization criterion / loss function\n",
        "loss_function = nn.BCEWithLogitsLoss(reduction='mean')"
      ],
      "execution_count": 0,
      "outputs": []
    },
    {
      "cell_type": "markdown",
      "metadata": {
        "id": "np_Uiu_HMpGH",
        "colab_type": "text"
      },
      "source": [
        "(Note: Enabling the parameter `reduction` specifies that the losses are averaged over all observations for each minibatch).\n",
        "\n",
        "Based on the loss magnitude of a certain mini-batch PyTorch automatically computes the gradients. But even better, based on the gradient, the library also helps us in the optimization and update of the AENN parameters $\\theta$.\n",
        "\n",
        "We will use the **Adam optimization** as proposed in [11] and set the learning-rate $l = 0.001$. Each mini-batch step the optimizer will update the encoder- and decoder-parameters $\\theta$ values according to degree of reconstruction error. "
      ]
    },
    {
      "cell_type": "code",
      "metadata": {
        "id": "Py5FDh0tMpGH",
        "colab_type": "code",
        "colab": {}
      },
      "source": [
        "# define learning rate and optimization strategy\n",
        "learning_rate = 1e-3\n",
        "encoder_optimizer = torch.optim.Adam(encoder_train.parameters(), lr=learning_rate)\n",
        "decoder_optimizer = torch.optim.Adam(decoder_train.parameters(), lr=learning_rate)"
      ],
      "execution_count": 0,
      "outputs": []
    },
    {
      "cell_type": "markdown",
      "metadata": {
        "id": "U_oaE_EMMpGK",
        "colab_type": "text"
      },
      "source": [
        "Now that we have successfully implemented and defined the three AENN building blocks let's take some time to review the `encoder` and `decoder` model definition as well as the `loss`. Please, read the above code and comments carefully and don't hesitate to let us know any questions you might have."
      ]
    },
    {
      "cell_type": "markdown",
      "metadata": {
        "id": "aBLAdkpQMpGL",
        "colab_type": "text"
      },
      "source": [
        "## 5. Training the Autoencoder Neural Network (AENN) Model"
      ]
    },
    {
      "cell_type": "markdown",
      "metadata": {
        "id": "9GOFuE1zMpGN",
        "colab_type": "text"
      },
      "source": [
        "In this section, we will train our deep autoencoder neural network (as implemented in section 4. of the lab) using the encoded transactional data (created in section 3. of the lab). More specifically, we will have a detailed look into the distinct training steps as well as how to monitor the training progress."
      ]
    },
    {
      "cell_type": "markdown",
      "metadata": {
        "id": "sXoptQ_6MpGN",
        "colab_type": "text"
      },
      "source": [
        "### 5.1 Preparing the Network Training"
      ]
    },
    {
      "cell_type": "markdown",
      "metadata": {
        "id": "jfG5t1t1MpGO",
        "colab_type": "text"
      },
      "source": [
        "We have pre-processed the dataset, implemented the AENN and defined the reconstruction error. Let's now start to train a corresponding model for **5 epochs** and a **mini-batch size of 128** journal entries per batch. This implies that the whole dataset will be fed to the AENN 5 times in chunks of 128 journal entries yielding to 4,165 mini-batches (533,009 journal entries / 128 journal entries per mini-batch) per epoch."
      ]
    },
    {
      "cell_type": "code",
      "metadata": {
        "id": "LWapHlqeMpGP",
        "colab_type": "code",
        "colab": {}
      },
      "source": [
        "# specify training parameters\n",
        "num_epochs = 5\n",
        "mini_batch_size = 128"
      ],
      "execution_count": 0,
      "outputs": []
    },
    {
      "cell_type": "markdown",
      "metadata": {
        "id": "5gzQvRVNMpGR",
        "colab_type": "text"
      },
      "source": [
        "During the training phase, we will fetch the individual mini-batches of the entire population of journal entries. To achieve this, we will use PyTorch's `DataLoader` that provides single- or multi-process iterators over a given dataset to load one mini-batch at a time. By enabling `shuffle=True` the data will be reshuffled at every epoch prior to feeding it to the network. "
      ]
    },
    {
      "cell_type": "code",
      "metadata": {
        "id": "mvyKNdJ_MpGS",
        "colab_type": "code",
        "colab": {}
      },
      "source": [
        "# convert pre-processed data to pytorch tensor\n",
        "torch_dataset = torch.from_numpy(ori_subset_transformed.values).float()\n",
        "\n",
        "# convert to pytorch tensor - none cuda enabled\n",
        "dataloader = DataLoader(torch_dataset, batch_size=mini_batch_size, shuffle=True, num_workers=0)\n",
        "# note: we set num_workers to zero to retrieve deterministic results\n",
        "\n",
        "# determine if CUDA is available at compute node\n",
        "if (torch.backends.cudnn.version() != None) and (USE_CUDA == True):\n",
        "    dataloader = DataLoader(torch_dataset.cuda(), batch_size=mini_batch_size, shuffle=True)"
      ],
      "execution_count": 0,
      "outputs": []
    },
    {
      "cell_type": "markdown",
      "metadata": {
        "id": "H1TUw4D3MpGT",
        "colab_type": "text"
      },
      "source": [
        "### 5.2 Running the Network Training"
      ]
    },
    {
      "cell_type": "markdown",
      "metadata": {
        "id": "KKHJ_YyyMpGU",
        "colab_type": "text"
      },
      "source": [
        "Finally, we start training the model. The training procedure of each mini-batch is performed as follows: \n",
        "\n",
        ">1. do a forward pass through the encoder-decoder part, \n",
        ">2. compute the binary-cross-entropy reconstruction loss $\\mathcal{L^{BCE}_{\\theta}}(x^{i};\\hat{x}^{i})$, \n",
        ">3. do a backward pass through the encoder-decoder part, and \n",
        ">4. update the parameters of the encoder $f_\\theta(\\cdot)$ and decoder $g_\\theta(\\cdot)$ networks.\n",
        "\n",
        "To ensure learning while training our AENN model we will monitor whether the loss decreases with progressing training. Therefore, we obtain and evaluate the reconstruction performance of the entire dataset after each training epoch. Based on this evaluation we can conclude on the training progress and whether the loss is converging (indicating that the model might not improve any further).\n",
        "\n",
        "The following elements of the network training code below should be given particular attention:\n",
        " \n",
        ">- `reconstruction_loss.backward()` computes the gradients based on the magnitude of the reconstruction loss,\n",
        ">- `encoder_optimizer.step()` and `decoder_optimizer.step()` updates the network parameters based on the gradient.\n",
        "\n",
        "Please also note, that the mini-batch training of the AENN will be executed on the GPU (if CUDNN is available and set accordingly by USE_CUDA=True). However, the evaluation of the reconstruction performance over the entire set of journal entries will be performed at CPU level. Using PyTorch this can be easily achieved with the following commands:\n",
        "\n",
        ">- `encoder_train.cuda()`: moves all model parameters and buffers to the GPU.\n",
        ">- `encoder_train.cpu()`: moves all model parameters and buffers to the CPU.\n",
        "\n",
        "The reason for the switch to the CPU in the evaluation phase is the size of the entire dataset. We aim to compute the reconstruction error over the entire dataset, which in most of the cases does not fit into the GPU's memory.\n",
        "\n",
        "In addition, after each training epoch we want to save a checkpoint for both the actual `encoder` and `decoder` model. The saved model checkpoints contain a snapshot of the trained model parameter values upon completion of a training epoch. In general, it is good practice, to save checkpoints at regular intervals during training. In case your system crashes during training you are able continue from the last checkpoint rather than start over from scratch.\n",
        "\n",
        ">- `torch.save()`: saves a checkpoint of the actual encoder and decoder model parameter values to disc."
      ]
    },
    {
      "cell_type": "code",
      "metadata": {
        "id": "xYHnjlg3MpGU",
        "colab_type": "code",
        "outputId": "ab2c9599-6ef8-45c9-e7ce-4d04fc04d12b",
        "colab": {
          "base_uri": "https://localhost:8080/",
          "height": 472
        }
      },
      "source": [
        "# init collection of epoch losses\n",
        "epoch_losses = []\n",
        "\n",
        "# convert encoded transactional data to torch Variable\n",
        "data = autograd.Variable(torch_dataset)\n",
        "\n",
        "# train autoencoder model\n",
        "for epoch in range(num_epochs):\n",
        "\n",
        "    # init collection of epoch losses\n",
        "    mini_batch_losses = []\n",
        "    \n",
        "    # init mini batch counter\n",
        "    mini_batch_count = 0\n",
        "    \n",
        "    # determine if CUDA is available at compute node\n",
        "    if(torch.backends.cudnn.version() != None) and (USE_CUDA == True):\n",
        "        \n",
        "        # set networks / models in GPU mode\n",
        "        encoder_train.cuda()\n",
        "        decoder_train.cuda()\n",
        "\n",
        "    # set networks in training mode (apply dropout when needed)\n",
        "    encoder_train.train()\n",
        "    decoder_train.train()\n",
        "\n",
        "    # start timer\n",
        "    start_time = datetime.now()\n",
        "        \n",
        "    # iterate over all mini-batches\n",
        "    for mini_batch_data in dataloader:\n",
        "\n",
        "        # increase mini batch counter\n",
        "        mini_batch_count += 1\n",
        "\n",
        "        # convert mini batch to torch variable\n",
        "        mini_batch_torch = autograd.Variable(mini_batch_data)\n",
        "\n",
        "        # =================== (1) forward pass ===================================\n",
        "\n",
        "        # run forward pass\n",
        "        z_representation = encoder_train(mini_batch_torch) # encode mini-batch data\n",
        "        mini_batch_reconstruction = decoder_train(z_representation) # decode mini-batch data\n",
        "        \n",
        "        # =================== (2) compute reconstruction loss ====================\n",
        "\n",
        "        # determine reconstruction loss\n",
        "        reconstruction_loss = loss_function(mini_batch_reconstruction, mini_batch_torch)\n",
        "        \n",
        "        # =================== (3) backward pass ==================================\n",
        "\n",
        "        # reset graph gradients\n",
        "        decoder_optimizer.zero_grad()\n",
        "        encoder_optimizer.zero_grad()\n",
        "\n",
        "        # run backward pass\n",
        "        reconstruction_loss.backward()\n",
        "        \n",
        "        # =================== (4) update model parameters ========================\n",
        "\n",
        "        # update network parameters\n",
        "        decoder_optimizer.step()\n",
        "        encoder_optimizer.step()\n",
        "\n",
        "        # =================== monitor training progress ==========================\n",
        "\n",
        "        # print training progress each 1'000 mini-batches\n",
        "        if mini_batch_count % 1000 == 0:\n",
        "            \n",
        "            # print the training mode: either on GPU or CPU\n",
        "            mode = 'GPU' if (torch.backends.cudnn.version() != None) and (USE_CUDA == True) else 'CPU'\n",
        "            \n",
        "            # print mini batch reconstuction results\n",
        "            now = datetime.utcnow().strftime(\"%Y%m%d-%H:%M:%S\")\n",
        "            end_time = datetime.now() - start_time\n",
        "            print('[LOG {}] training status, epoch: [{:04}/{:04}], batch: {:04}, loss: {}, mode: {}, time required: {}'.format(now, (epoch+1), num_epochs, mini_batch_count, np.round(reconstruction_loss.item(), 4), mode, end_time))\n",
        "\n",
        "            # reset timer\n",
        "            start_time = datetime.now()\n",
        "            \n",
        "        # collect mini-batch loss\n",
        "        mini_batch_losses.extend([np.round(reconstruction_loss.item(), 4)])\n",
        "\n",
        "    # =================== evaluate model performance =============================\n",
        "                                 \n",
        "    # collect mean training epoch loss\n",
        "    epoch_losses.extend([np.mean(mini_batch_losses)])\n",
        "    \n",
        "    # print training epoch results\n",
        "    now = datetime.utcnow().strftime(\"%Y%m%d-%H:%M:%S\")\n",
        "    print('[LOG {}] training status, epoch: [{:04}/{:04}], loss: {:.10f}'.format(now, (epoch+1), num_epochs, np.mean(mini_batch_losses)))\n",
        "\n",
        "    # =================== save model snapshot to disk ============================\n",
        "    \n",
        "    # save trained encoder model file to disk\n",
        "    encoder_model_name = \"ep_{}_encoder_model.pth\".format((epoch+1))\n",
        "    torch.save(encoder_train.state_dict(), encoder_model_name)\n",
        "\n",
        "    # save trained decoder model file to disk\n",
        "    decoder_model_name = \"ep_{}_decoder_model.pth\".format((epoch+1))\n",
        "    torch.save(decoder_train.state_dict(), decoder_model_name)"
      ],
      "execution_count": 0,
      "outputs": [
        {
          "output_type": "stream",
          "text": [
            "[LOG 20200209-09:37:35] training status, epoch: [0001/0005], batch: 1000, loss: 0.0219, mode: CPU, time required: 0:00:21.490314\n",
            "[LOG 20200209-09:37:59] training status, epoch: [0001/0005], batch: 2000, loss: 0.0085, mode: CPU, time required: 0:00:23.619177\n",
            "[LOG 20200209-09:38:26] training status, epoch: [0001/0005], batch: 3000, loss: 0.0071, mode: CPU, time required: 0:00:27.069272\n",
            "[LOG 20200209-09:38:54] training status, epoch: [0001/0005], batch: 4000, loss: 0.0075, mode: CPU, time required: 0:00:28.333918\n",
            "[LOG 20200209-09:38:59] training status, epoch: [0001/0005], loss: 0.0129818007\n",
            "[LOG 20200209-09:39:27] training status, epoch: [0002/0005], batch: 1000, loss: 0.0058, mode: CPU, time required: 0:00:27.877582\n",
            "[LOG 20200209-09:39:55] training status, epoch: [0002/0005], batch: 2000, loss: 0.0048, mode: CPU, time required: 0:00:27.964547\n",
            "[LOG 20200209-09:40:23] training status, epoch: [0002/0005], batch: 3000, loss: 0.0041, mode: CPU, time required: 0:00:28.439647\n",
            "[LOG 20200209-09:40:52] training status, epoch: [0002/0005], batch: 4000, loss: 0.0041, mode: CPU, time required: 0:00:28.287551\n",
            "[LOG 20200209-09:40:56] training status, epoch: [0002/0005], loss: 0.0052780072\n",
            "[LOG 20200209-09:41:25] training status, epoch: [0003/0005], batch: 1000, loss: 0.004, mode: CPU, time required: 0:00:28.923498\n",
            "[LOG 20200209-09:41:53] training status, epoch: [0003/0005], batch: 2000, loss: 0.0046, mode: CPU, time required: 0:00:28.306374\n",
            "[LOG 20200209-09:42:22] training status, epoch: [0003/0005], batch: 3000, loss: 0.0041, mode: CPU, time required: 0:00:28.358913\n",
            "[LOG 20200209-09:42:49] training status, epoch: [0003/0005], batch: 4000, loss: 0.0037, mode: CPU, time required: 0:00:27.633165\n",
            "[LOG 20200209-09:42:54] training status, epoch: [0003/0005], loss: 0.0043689556\n",
            "[LOG 20200209-09:43:22] training status, epoch: [0004/0005], batch: 1000, loss: 0.0033, mode: CPU, time required: 0:00:27.655156\n",
            "[LOG 20200209-09:43:49] training status, epoch: [0004/0005], batch: 2000, loss: 0.0034, mode: CPU, time required: 0:00:26.958182\n",
            "[LOG 20200209-09:44:16] training status, epoch: [0004/0005], batch: 3000, loss: 0.006, mode: CPU, time required: 0:00:27.058388\n",
            "[LOG 20200209-09:44:43] training status, epoch: [0004/0005], batch: 4000, loss: 0.0032, mode: CPU, time required: 0:00:26.976874\n",
            "[LOG 20200209-09:44:47] training status, epoch: [0004/0005], loss: 0.0038502281\n",
            "[LOG 20200209-09:45:13] training status, epoch: [0005/0005], batch: 1000, loss: 0.0032, mode: CPU, time required: 0:00:26.136148\n",
            "[LOG 20200209-09:45:40] training status, epoch: [0005/0005], batch: 2000, loss: 0.0031, mode: CPU, time required: 0:00:26.580470\n",
            "[LOG 20200209-09:46:05] training status, epoch: [0005/0005], batch: 3000, loss: 0.0032, mode: CPU, time required: 0:00:25.707797\n",
            "[LOG 20200209-09:46:31] training status, epoch: [0005/0005], batch: 4000, loss: 0.003, mode: CPU, time required: 0:00:25.948088\n",
            "[LOG 20200209-09:46:35] training status, epoch: [0005/0005], loss: 0.0035772149\n"
          ],
          "name": "stdout"
        }
      ]
    },
    {
      "cell_type": "markdown",
      "metadata": {
        "id": "VH4DpkMvMpGW",
        "colab_type": "text"
      },
      "source": [
        "Let's now evaluate if the loss function is indeed going down with progressing training of the model. Therefore, let's visualize the magnitudes of the losses obtained per training epoch:"
      ]
    },
    {
      "cell_type": "code",
      "metadata": {
        "id": "REhhdHbtMpGX",
        "colab_type": "code",
        "outputId": "f656ba4b-80e2-4cf2-805c-a362b8c9fd9d",
        "colab": {
          "base_uri": "https://localhost:8080/",
          "height": 313
        }
      },
      "source": [
        "# plot the training progress\n",
        "plt.plot(range(0, len(epoch_losses)), epoch_losses)\n",
        "plt.xlabel('[training epoch]')\n",
        "plt.xlim([0, len(epoch_losses)])\n",
        "plt.ylabel('[reconstruction-error]')\n",
        "#plt.ylim([0.0, 1.0])\n",
        "plt.title('AENN training performance')"
      ],
      "execution_count": 0,
      "outputs": [
        {
          "output_type": "execute_result",
          "data": {
            "text/plain": [
              "Text(0.5, 1.0, 'AENN training performance')"
            ]
          },
          "metadata": {
            "tags": []
          },
          "execution_count": 35
        },
        {
          "output_type": "display_data",
          "data": {
            "image/png": "[encoded data removed]",
            "text/plain": [
              "<Figure size 432x288 with 1 Axes>"
            ]
          },
          "metadata": {
            "tags": []
          }
        }
      ]
    },
    {
      "cell_type": "markdown",
      "metadata": {
        "id": "fcejlgmzMpGY",
        "colab_type": "text"
      },
      "source": [
        "How does the reconstruction loss change as we progress in training our model? After 5 epochs, we can observe that our reconstruction loss already went down significantly and starts to converge nicely. This indicates that our network did a pretty good job in learning the structure and attributes of the journal entries.\n",
        "\n",
        "But, from the plot we also observe that the model could probably be trained a couple more epochs as the trend of the reconstruction error still decreases for the last few epochs. In order to save time, we will continue the lab using a pre-trained model already trained by 20 epochs."
      ]
    },
    {
      "cell_type": "markdown",
      "metadata": {
        "id": "_41GCs8dMpGa",
        "colab_type": "text"
      },
      "source": [
        "## 6. Evaluating the Autoencoder Neural Network (AENN) Model"
      ]
    },
    {
      "cell_type": "markdown",
      "metadata": {
        "id": "ZdFNF2msMpGd",
        "colab_type": "text"
      },
      "source": [
        "Now that we know how to train our autoencoder model, we will explore how we can use it to detect anomalies within the entire population of journal entries. Initially, we will start by loading a pre-trained model of 10 epochs and assess its reconstruction capability on the entire dataset. \n",
        "\n",
        "The pre-trained model is stored in the same directory as the lab notebook and can be loaded by executing the cell below: "
      ]
    },
    {
      "cell_type": "code",
      "metadata": {
        "id": "_zC4BjFWMpGe",
        "colab_type": "code",
        "outputId": "b261a941-8bd7-4947-fa5b-9a25b78df06e",
        "colab": {
          "base_uri": "https://localhost:8080/",
          "height": 35
        }
      },
      "source": [
        "# restore pretrained model checkpoint\n",
        "encoder_model_name = 'https://raw.githubusercontent.com/GitiHubi/deepAI/master/models/ep_10_encoder_model.pth'\n",
        "decoder_model_name = 'https://raw.githubusercontent.com/GitiHubi/deepAI/master/models/ep_10_decoder_model.pth'\n",
        "\n",
        "# Read stored model from the remote location\n",
        "encoder_bytes = urllib.request.urlopen(encoder_model_name)\n",
        "decoder_bytes = urllib.request.urlopen(decoder_model_name)\n",
        "\n",
        "# Load tensor from io.BytesIO object\n",
        "encoder_buffer = io.BytesIO(encoder_bytes.read())\n",
        "decoder_buffer = io.BytesIO(decoder_bytes.read())\n",
        "\n",
        "# init training network classes / architectures\n",
        "encoder_eval = encoder()\n",
        "decoder_eval = decoder()\n",
        "\n",
        "# load trained models\n",
        "encoder_eval.load_state_dict(torch.load(encoder_buffer))\n",
        "decoder_eval.load_state_dict(torch.load(decoder_buffer))"
      ],
      "execution_count": 0,
      "outputs": [
        {
          "output_type": "execute_result",
          "data": {
            "text/plain": [
              "<All keys matched successfully>"
            ]
          },
          "metadata": {
            "tags": []
          },
          "execution_count": 36
        }
      ]
    },
    {
      "cell_type": "markdown",
      "metadata": {
        "id": "vdEIaTQkMpGg",
        "colab_type": "text"
      },
      "source": [
        "### 6.1 Assessment of the Pre-Trained Model"
      ]
    },
    {
      "cell_type": "markdown",
      "metadata": {
        "id": "dCDrWUfcMpGg",
        "colab_type": "text"
      },
      "source": [
        "Once obtained, let's use the model to reconstruct the entire dataset:"
      ]
    },
    {
      "cell_type": "code",
      "metadata": {
        "id": "XvIBx82GMpGh",
        "colab_type": "code",
        "colab": {}
      },
      "source": [
        "# convert encoded transactional data to torch Variable\n",
        "data = autograd.Variable(torch_dataset)\n",
        "\n",
        "# set networks in evaluation mode (don't apply dropout)\n",
        "encoder_eval.eval()\n",
        "decoder_eval.eval()\n",
        "\n",
        "# reconstruct encoded transactional data\n",
        "reconstruction = decoder_eval(encoder_eval(data))"
      ],
      "execution_count": 0,
      "outputs": []
    },
    {
      "cell_type": "markdown",
      "metadata": {
        "id": "auXgkMzEMpGk",
        "colab_type": "text"
      },
      "source": [
        "Ok, nice. Comparing the overall reconstruction loss of the pre-trained model trained for **10 epochs** to the one we initially trained for **5 epochs** reveals, that the pre-trained model results in a significantly lower reconstruction error. We can therefore conclude that the pre-trained model outperforms our initial model in capturing the inherent characteristics of the journal entries."
      ]
    },
    {
      "cell_type": "markdown",
      "metadata": {
        "id": "Mn8xNJE5MpGk",
        "colab_type": "text"
      },
      "source": [
        "### 6.2 Assessment of the Individual Transactions"
      ]
    },
    {
      "cell_type": "markdown",
      "metadata": {
        "id": "dZlfEfeoMpGl",
        "colab_type": "text"
      },
      "source": [
        "Ok, now that we are convinced that the pre-trained model is of decent quality let's assess the individual journal entries of the dataset. To achieve this, we collect the reconstruction errors of each individual journal entry by executing the cell below:"
      ]
    },
    {
      "cell_type": "code",
      "metadata": {
        "id": "plaqfTJQMpGm",
        "colab_type": "code",
        "outputId": "5c0832fa-0527-4625-af08-6a5a15707d31",
        "colab": {
          "base_uri": "https://localhost:8080/",
          "height": 126
        }
      },
      "source": [
        "# init binary cross entropy errors\n",
        "reconstruction_loss_transaction = np.zeros(reconstruction.size()[0])\n",
        "\n",
        "# iterate over all detailed reconstructions\n",
        "for i in range(0, reconstruction.size()[0]):\n",
        "\n",
        "    # determine reconstruction loss - individual transactions\n",
        "    reconstruction_loss_transaction[i] = loss_function(reconstruction[i], data[i]).item()\n",
        "\n",
        "    if(i % 100000 == 0):\n",
        "\n",
        "        ### print conversion summary\n",
        "        now = datetime.utcnow().strftime(\"%Y%m%d-%H:%M:%S\")\n",
        "        print('[LOG {}] collected individual reconstruction loss of: {:06}/{:06} transactions'.format(now, i, reconstruction.size()[0]))\n",
        "        "
      ],
      "execution_count": 0,
      "outputs": [
        {
          "output_type": "stream",
          "text": [
            "[LOG 20200209-09:48:07] collected individual reconstruction loss of: 000000/533009 transactions\n",
            "[LOG 20200209-09:48:12] collected individual reconstruction loss of: 100000/533009 transactions\n",
            "[LOG 20200209-09:48:18] collected individual reconstruction loss of: 200000/533009 transactions\n",
            "[LOG 20200209-09:48:24] collected individual reconstruction loss of: 300000/533009 transactions\n",
            "[LOG 20200209-09:48:29] collected individual reconstruction loss of: 400000/533009 transactions\n",
            "[LOG 20200209-09:48:35] collected individual reconstruction loss of: 500000/533009 transactions\n"
          ],
          "name": "stdout"
        }
      ]
    },
    {
      "cell_type": "markdown",
      "metadata": {
        "id": "P0ZVOHWOMpGo",
        "colab_type": "text"
      },
      "source": [
        "Once we have collected individual reconstruction errors let's visualize them accordingly:"
      ]
    },
    {
      "cell_type": "code",
      "metadata": {
        "id": "hcJmYTM8MpGp",
        "colab_type": "code",
        "outputId": "76fd8f90-52df-4772-faa0-be38ae3262d3",
        "colab": {
          "base_uri": "https://localhost:8080/",
          "height": 283
        }
      },
      "source": [
        "# prepare plot\n",
        "fig = plt.figure()\n",
        "ax = fig.add_subplot(111)\n",
        "\n",
        "# assign unique id to transactions\n",
        "plot_data = np.column_stack((np.arange(len(reconstruction_loss_transaction)), reconstruction_loss_transaction))\n",
        "\n",
        "# obtain regular transactions as well as global and local anomalies\n",
        "regular_data = plot_data[label == 'regular']\n",
        "global_outliers = plot_data[label == 'global']\n",
        "local_outliers = plot_data[label == 'local']\n",
        "\n",
        "# plot reconstruction error scatter plot\n",
        "ax.scatter(regular_data[:, 0], regular_data[:, 1], c='C0', alpha=0.4, marker=\"o\", label='regular') # plot regular transactions\n",
        "ax.scatter(global_outliers[:, 0], global_outliers[:, 1], c='C1', marker=\"^\", label='global') # plot global outliers\n",
        "ax.scatter(local_outliers[:, 0], local_outliers[:, 1], c='C2', marker=\"^\", label='local') # plot local outliers\n",
        "\n",
        "# add plot legend of transaction classes\n",
        "ax.legend(loc='best')"
      ],
      "execution_count": 0,
      "outputs": [
        {
          "output_type": "execute_result",
          "data": {
            "text/plain": [
              "<matplotlib.legend.Legend at 0x7f768971ff60>"
            ]
          },
          "metadata": {
            "tags": []
          },
          "execution_count": 39
        },
        {
          "output_type": "display_data",
          "data": {
            "image/png": "[encoded data removed]",
            "text/plain": [
              "<Figure size 432x288 with 1 Axes>"
            ]
          },
          "metadata": {
            "tags": []
          }
        }
      ]
    },
    {
      "cell_type": "markdown",
      "metadata": {
        "id": "b2EmDabHMpGt",
        "colab_type": "text"
      },
      "source": [
        "The visualization reveals that the pre-trained model is able to reconstruct the majority of regular journal entries, while failing to do so, for the anomalous ones. As a result, the model reconstruction error can be used to distinguish both \"global\" anomalies (orange) and \"local\" anomalies (green) from the regular journal entries (blue).\n",
        "\n",
        "To further investigate our observation and confirm the initial assumption, let's have a closer look into the journal entries exhibiting a \"high\" binary cross-entropy reconstruction error >= 0.1. We assume that these journal entries correspond to the \"global\" anomalies of the original dataset:"
      ]
    },
    {
      "cell_type": "code",
      "metadata": {
        "id": "VCcrDV5sMpGt",
        "colab_type": "code",
        "outputId": "f765be73-e589-42f8-d20e-d5c890707d3f",
        "colab": {
          "base_uri": "https://localhost:8080/",
          "height": 407
        }
      },
      "source": [
        "# append labels to original dataset\n",
        "ori_dataset['label'] = label\n",
        "\n",
        "# inspect transactions exhibiting a reconstruction error >= 0.1\n",
        "ori_dataset[reconstruction_loss_transaction >= 0.1]"
      ],
      "execution_count": 0,
      "outputs": [
        {
          "output_type": "execute_result",
          "data": {
            "text/html": [
              "<div>\n",
              "<style scoped>\n",
              "    .dataframe tbody tr th:only-of-type {\n",
              "        vertical-align: middle;\n",
              "    }\n",
              "\n",
              "    .dataframe tbody tr th {\n",
              "        vertical-align: top;\n",
              "    }\n",
              "\n",
              "    .dataframe thead th {\n",
              "        text-align: right;\n",
              "    }\n",
              "</style>\n",
              "<table border=\"1\" class=\"dataframe\">\n",
              "  <thead>\n",
              "    <tr style=\"text-align: right;\">\n",
              "      <th></th>\n",
              "      <th>BELNR</th>\n",
              "      <th>WAERS</th>\n",
              "      <th>BUKRS</th>\n",
              "      <th>KTOSL</th>\n",
              "      <th>PRCTR</th>\n",
              "      <th>BSCHL</th>\n",
              "      <th>HKONT</th>\n",
              "      <th>DMBTR</th>\n",
              "      <th>WRBTR</th>\n",
              "      <th>label</th>\n",
              "    </tr>\n",
              "  </thead>\n",
              "  <tbody>\n",
              "    <tr>\n",
              "      <th>32317</th>\n",
              "      <td>532989</td>\n",
              "      <td>C1</td>\n",
              "      <td>C11</td>\n",
              "      <td>C1</td>\n",
              "      <td>C53</td>\n",
              "      <td>A1</td>\n",
              "      <td>B1</td>\n",
              "      <td>9.106530e+05</td>\n",
              "      <td>5.443921e+04</td>\n",
              "      <td>local</td>\n",
              "    </tr>\n",
              "    <tr>\n",
              "      <th>33365</th>\n",
              "      <td>532942</td>\n",
              "      <td>W59</td>\n",
              "      <td>C13</td>\n",
              "      <td>P83</td>\n",
              "      <td>I73</td>\n",
              "      <td>I05</td>\n",
              "      <td>Q99</td>\n",
              "      <td>9.244552e+07</td>\n",
              "      <td>5.958504e+07</td>\n",
              "      <td>global</td>\n",
              "    </tr>\n",
              "    <tr>\n",
              "      <th>35691</th>\n",
              "      <td>532967</td>\n",
              "      <td>M07</td>\n",
              "      <td>S42</td>\n",
              "      <td>J81</td>\n",
              "      <td>A14</td>\n",
              "      <td>O49</td>\n",
              "      <td>Z01</td>\n",
              "      <td>9.244553e+07</td>\n",
              "      <td>5.958503e+07</td>\n",
              "      <td>global</td>\n",
              "    </tr>\n",
              "    <tr>\n",
              "      <th>35944</th>\n",
              "      <td>532917</td>\n",
              "      <td>J82</td>\n",
              "      <td>Q22</td>\n",
              "      <td>P32</td>\n",
              "      <td>Z74</td>\n",
              "      <td>Y19</td>\n",
              "      <td>K27</td>\n",
              "      <td>9.244553e+07</td>\n",
              "      <td>5.958504e+07</td>\n",
              "      <td>global</td>\n",
              "    </tr>\n",
              "    <tr>\n",
              "      <th>41925</th>\n",
              "      <td>532923</td>\n",
              "      <td>T17</td>\n",
              "      <td>R47</td>\n",
              "      <td>D84</td>\n",
              "      <td>F38</td>\n",
              "      <td>I81</td>\n",
              "      <td>D68</td>\n",
              "      <td>9.244552e+07</td>\n",
              "      <td>5.958505e+07</td>\n",
              "      <td>global</td>\n",
              "    </tr>\n",
              "    <tr>\n",
              "      <th>...</th>\n",
              "      <td>...</td>\n",
              "      <td>...</td>\n",
              "      <td>...</td>\n",
              "      <td>...</td>\n",
              "      <td>...</td>\n",
              "      <td>...</td>\n",
              "      <td>...</td>\n",
              "      <td>...</td>\n",
              "      <td>...</td>\n",
              "      <td>...</td>\n",
              "    </tr>\n",
              "    <tr>\n",
              "      <th>498175</th>\n",
              "      <td>532963</td>\n",
              "      <td>Z06</td>\n",
              "      <td>G77</td>\n",
              "      <td>Z22</td>\n",
              "      <td>R09</td>\n",
              "      <td>V09</td>\n",
              "      <td>X53</td>\n",
              "      <td>9.244553e+07</td>\n",
              "      <td>5.958504e+07</td>\n",
              "      <td>global</td>\n",
              "    </tr>\n",
              "    <tr>\n",
              "      <th>502255</th>\n",
              "      <td>532954</td>\n",
              "      <td>J38</td>\n",
              "      <td>C30</td>\n",
              "      <td>G28</td>\n",
              "      <td>T38</td>\n",
              "      <td>C62</td>\n",
              "      <td>L03</td>\n",
              "      <td>9.244551e+07</td>\n",
              "      <td>5.958503e+07</td>\n",
              "      <td>global</td>\n",
              "    </tr>\n",
              "    <tr>\n",
              "      <th>506926</th>\n",
              "      <td>532948</td>\n",
              "      <td>U72</td>\n",
              "      <td>D58</td>\n",
              "      <td>E35</td>\n",
              "      <td>Y05</td>\n",
              "      <td>D53</td>\n",
              "      <td>F61</td>\n",
              "      <td>9.244551e+07</td>\n",
              "      <td>5.958505e+07</td>\n",
              "      <td>global</td>\n",
              "    </tr>\n",
              "    <tr>\n",
              "      <th>528449</th>\n",
              "      <td>532959</td>\n",
              "      <td>C89</td>\n",
              "      <td>S43</td>\n",
              "      <td>E40</td>\n",
              "      <td>Y34</td>\n",
              "      <td>L29</td>\n",
              "      <td>N28</td>\n",
              "      <td>9.244553e+07</td>\n",
              "      <td>5.958504e+07</td>\n",
              "      <td>global</td>\n",
              "    </tr>\n",
              "    <tr>\n",
              "      <th>528759</th>\n",
              "      <td>532910</td>\n",
              "      <td>P36</td>\n",
              "      <td>V48</td>\n",
              "      <td>Z17</td>\n",
              "      <td>J68</td>\n",
              "      <td>Q50</td>\n",
              "      <td>J62</td>\n",
              "      <td>9.244554e+07</td>\n",
              "      <td>5.958504e+07</td>\n",
              "      <td>global</td>\n",
              "    </tr>\n",
              "  </tbody>\n",
              "</table>\n",
              "<p>78 rows × 10 columns</p>\n",
              "</div>"
            ],
            "text/plain": [
              "         BELNR WAERS BUKRS KTOSL  ... HKONT         DMBTR         WRBTR   label\n",
              "32317   532989    C1   C11    C1  ...    B1  9.106530e+05  5.443921e+04   local\n",
              "33365   532942   W59   C13   P83  ...   Q99  9.244552e+07  5.958504e+07  global\n",
              "35691   532967   M07   S42   J81  ...   Z01  9.244553e+07  5.958503e+07  global\n",
              "35944   532917   J82   Q22   P32  ...   K27  9.244553e+07  5.958504e+07  global\n",
              "41925   532923   T17   R47   D84  ...   D68  9.244552e+07  5.958505e+07  global\n",
              "...        ...   ...   ...   ...  ...   ...           ...           ...     ...\n",
              "498175  532963   Z06   G77   Z22  ...   X53  9.244553e+07  5.958504e+07  global\n",
              "502255  532954   J38   C30   G28  ...   L03  9.244551e+07  5.958503e+07  global\n",
              "506926  532948   U72   D58   E35  ...   F61  9.244551e+07  5.958505e+07  global\n",
              "528449  532959   C89   S43   E40  ...   N28  9.244553e+07  5.958504e+07  global\n",
              "528759  532910   P36   V48   Z17  ...   J62  9.244554e+07  5.958504e+07  global\n",
              "\n",
              "[78 rows x 10 columns]"
            ]
          },
          "metadata": {
            "tags": []
          },
          "execution_count": 40
        }
      ]
    },
    {
      "cell_type": "markdown",
      "metadata": {
        "id": "H16Jm5P-MpGw",
        "colab_type": "text"
      },
      "source": [
        "Let's now also have a closer look into the journal entries exhibiting a \"medium\" binary cross-entropy reconstruction error >= 0.02 and < 0.1. We assume that these journal entries mostly correspond to the \"local\" anomalies of the original dataset:"
      ]
    },
    {
      "cell_type": "code",
      "metadata": {
        "id": "fYWoQuLGMpGw",
        "colab_type": "code",
        "outputId": "a917b59c-18a9-49c2-c2bb-24ff203413e7",
        "colab": {
          "base_uri": "https://localhost:8080/",
          "height": 408
        }
      },
      "source": [
        "# inspect transactions exhibiting a reconstruction error < 0.1 and >= 0.05\n",
        "ori_dataset[(reconstruction_loss_transaction >= 0.05) & (reconstruction_loss_transaction < 0.1)]"
      ],
      "execution_count": 0,
      "outputs": [
        {
          "output_type": "execute_result",
          "data": {
            "text/html": [
              "<div>\n",
              "<style scoped>\n",
              "    .dataframe tbody tr th:only-of-type {\n",
              "        vertical-align: middle;\n",
              "    }\n",
              "\n",
              "    .dataframe tbody tr th {\n",
              "        vertical-align: top;\n",
              "    }\n",
              "\n",
              "    .dataframe thead th {\n",
              "        text-align: right;\n",
              "    }\n",
              "</style>\n",
              "<table border=\"1\" class=\"dataframe\">\n",
              "  <thead>\n",
              "    <tr style=\"text-align: right;\">\n",
              "      <th></th>\n",
              "      <th>BELNR</th>\n",
              "      <th>WAERS</th>\n",
              "      <th>BUKRS</th>\n",
              "      <th>KTOSL</th>\n",
              "      <th>PRCTR</th>\n",
              "      <th>BSCHL</th>\n",
              "      <th>HKONT</th>\n",
              "      <th>DMBTR</th>\n",
              "      <th>WRBTR</th>\n",
              "      <th>label</th>\n",
              "    </tr>\n",
              "  </thead>\n",
              "  <tbody>\n",
              "    <tr>\n",
              "      <th>34059</th>\n",
              "      <td>533003</td>\n",
              "      <td>C1</td>\n",
              "      <td>C11</td>\n",
              "      <td>C1</td>\n",
              "      <td>C64</td>\n",
              "      <td>A1</td>\n",
              "      <td>B1</td>\n",
              "      <td>910631.632279</td>\n",
              "      <td>54443.283794</td>\n",
              "      <td>local</td>\n",
              "    </tr>\n",
              "    <tr>\n",
              "      <th>97954</th>\n",
              "      <td>532984</td>\n",
              "      <td>C1</td>\n",
              "      <td>C11</td>\n",
              "      <td>C1</td>\n",
              "      <td>C68</td>\n",
              "      <td>A1</td>\n",
              "      <td>B1</td>\n",
              "      <td>910648.636111</td>\n",
              "      <td>54442.618111</td>\n",
              "      <td>local</td>\n",
              "    </tr>\n",
              "    <tr>\n",
              "      <th>183064</th>\n",
              "      <td>533006</td>\n",
              "      <td>C1</td>\n",
              "      <td>C11</td>\n",
              "      <td>C1</td>\n",
              "      <td>C82</td>\n",
              "      <td>A1</td>\n",
              "      <td>B1</td>\n",
              "      <td>910648.873494</td>\n",
              "      <td>54436.705575</td>\n",
              "      <td>local</td>\n",
              "    </tr>\n",
              "    <tr>\n",
              "      <th>213105</th>\n",
              "      <td>532981</td>\n",
              "      <td>C1</td>\n",
              "      <td>C17</td>\n",
              "      <td>C1</td>\n",
              "      <td>C20</td>\n",
              "      <td>A1</td>\n",
              "      <td>B1</td>\n",
              "      <td>910664.385738</td>\n",
              "      <td>54436.897572</td>\n",
              "      <td>local</td>\n",
              "    </tr>\n",
              "    <tr>\n",
              "      <th>234335</th>\n",
              "      <td>532987</td>\n",
              "      <td>C1</td>\n",
              "      <td>C11</td>\n",
              "      <td>C1</td>\n",
              "      <td>C80</td>\n",
              "      <td>A1</td>\n",
              "      <td>B1</td>\n",
              "      <td>910647.596802</td>\n",
              "      <td>54446.113055</td>\n",
              "      <td>local</td>\n",
              "    </tr>\n",
              "    <tr>\n",
              "      <th>234460</th>\n",
              "      <td>532988</td>\n",
              "      <td>C1</td>\n",
              "      <td>C11</td>\n",
              "      <td>C1</td>\n",
              "      <td>C26</td>\n",
              "      <td>A1</td>\n",
              "      <td>B1</td>\n",
              "      <td>910655.728514</td>\n",
              "      <td>54441.600292</td>\n",
              "      <td>local</td>\n",
              "    </tr>\n",
              "    <tr>\n",
              "      <th>300115</th>\n",
              "      <td>533000</td>\n",
              "      <td>C1</td>\n",
              "      <td>C11</td>\n",
              "      <td>C1</td>\n",
              "      <td>C88</td>\n",
              "      <td>A1</td>\n",
              "      <td>B1</td>\n",
              "      <td>910649.135220</td>\n",
              "      <td>54441.440806</td>\n",
              "      <td>local</td>\n",
              "    </tr>\n",
              "    <tr>\n",
              "      <th>318771</th>\n",
              "      <td>533004</td>\n",
              "      <td>C1</td>\n",
              "      <td>C11</td>\n",
              "      <td>C1</td>\n",
              "      <td>C66</td>\n",
              "      <td>A1</td>\n",
              "      <td>B1</td>\n",
              "      <td>910657.152500</td>\n",
              "      <td>54466.259351</td>\n",
              "      <td>local</td>\n",
              "    </tr>\n",
              "    <tr>\n",
              "      <th>326531</th>\n",
              "      <td>533005</td>\n",
              "      <td>C1</td>\n",
              "      <td>C11</td>\n",
              "      <td>C1</td>\n",
              "      <td>C24</td>\n",
              "      <td>A1</td>\n",
              "      <td>B1</td>\n",
              "      <td>910632.886549</td>\n",
              "      <td>54458.195111</td>\n",
              "      <td>local</td>\n",
              "    </tr>\n",
              "    <tr>\n",
              "      <th>360246</th>\n",
              "      <td>532983</td>\n",
              "      <td>C1</td>\n",
              "      <td>C11</td>\n",
              "      <td>C1</td>\n",
              "      <td>C72</td>\n",
              "      <td>A1</td>\n",
              "      <td>B1</td>\n",
              "      <td>910639.376486</td>\n",
              "      <td>54456.999522</td>\n",
              "      <td>local</td>\n",
              "    </tr>\n",
              "    <tr>\n",
              "      <th>365737</th>\n",
              "      <td>532996</td>\n",
              "      <td>C1</td>\n",
              "      <td>C11</td>\n",
              "      <td>C1</td>\n",
              "      <td>C93</td>\n",
              "      <td>A1</td>\n",
              "      <td>B1</td>\n",
              "      <td>910636.709782</td>\n",
              "      <td>54448.703935</td>\n",
              "      <td>local</td>\n",
              "    </tr>\n",
              "    <tr>\n",
              "      <th>507636</th>\n",
              "      <td>532993</td>\n",
              "      <td>C1</td>\n",
              "      <td>C11</td>\n",
              "      <td>C1</td>\n",
              "      <td>C70</td>\n",
              "      <td>A1</td>\n",
              "      <td>B1</td>\n",
              "      <td>910676.587040</td>\n",
              "      <td>54441.755167</td>\n",
              "      <td>local</td>\n",
              "    </tr>\n",
              "  </tbody>\n",
              "</table>\n",
              "</div>"
            ],
            "text/plain": [
              "         BELNR WAERS BUKRS KTOSL  ... HKONT          DMBTR         WRBTR  label\n",
              "34059   533003    C1   C11    C1  ...    B1  910631.632279  54443.283794  local\n",
              "97954   532984    C1   C11    C1  ...    B1  910648.636111  54442.618111  local\n",
              "183064  533006    C1   C11    C1  ...    B1  910648.873494  54436.705575  local\n",
              "213105  532981    C1   C17    C1  ...    B1  910664.385738  54436.897572  local\n",
              "234335  532987    C1   C11    C1  ...    B1  910647.596802  54446.113055  local\n",
              "234460  532988    C1   C11    C1  ...    B1  910655.728514  54441.600292  local\n",
              "300115  533000    C1   C11    C1  ...    B1  910649.135220  54441.440806  local\n",
              "318771  533004    C1   C11    C1  ...    B1  910657.152500  54466.259351  local\n",
              "326531  533005    C1   C11    C1  ...    B1  910632.886549  54458.195111  local\n",
              "360246  532983    C1   C11    C1  ...    B1  910639.376486  54456.999522  local\n",
              "365737  532996    C1   C11    C1  ...    B1  910636.709782  54448.703935  local\n",
              "507636  532993    C1   C11    C1  ...    B1  910676.587040  54441.755167  local\n",
              "\n",
              "[12 rows x 10 columns]"
            ]
          },
          "metadata": {
            "tags": []
          },
          "execution_count": 41
        }
      ]
    },
    {
      "cell_type": "markdown",
      "metadata": {
        "id": "gby1m2coMpGz",
        "colab_type": "text"
      },
      "source": [
        "## Alternative model"
      ]
    },
    {
      "cell_type": "code",
      "metadata": {
        "id": "8J5240rrMpG0",
        "colab_type": "code",
        "colab": {}
      },
      "source": [
        "# implementation of the shallow encoder network \n",
        "# containing only a single layer\n",
        "class shallow_encoder(nn.Module):\n",
        "\n",
        "    def __init__(self):\n",
        "\n",
        "        super(encoder, self).__init__()\n",
        "\n",
        "        # specify layer 1 - in 618, out 3\n",
        "        self.encoder_L1 = nn.Linear(in_features=ori_subset_transformed.shape[1], out_features=3, bias=True) # add linearity \n",
        "        nn.init.xavier_uniform_(self.encoder_L1.weight) # init weights according to [9]\n",
        "        self.encoder_R1 = nn.LeakyReLU(negative_slope=0.4, inplace=True) # add non-linearity according to [10]\n",
        "        \n",
        "    def forward(self, x):\n",
        "\n",
        "        # define forward pass through the network\n",
        "        x = self.encoder_R1(self.encoder_L1(x)) # don't apply dropout to the AE bottleneck\n",
        "\n",
        "        return x"
      ],
      "execution_count": 0,
      "outputs": []
    },
    {
      "cell_type": "code",
      "metadata": {
        "id": "8IZ92hETMpG2",
        "colab_type": "code",
        "colab": {}
      },
      "source": [
        "# implementation of the shallow decoder network \n",
        "# containing only a single layer\n",
        "class shallow_decoder(nn.Module):\n",
        "\n",
        "    def __init__(self):\n",
        "\n",
        "        super(decoder, self).__init__()\n",
        "\n",
        "        # specify layer 1 - in 3, out 618\n",
        "        self.decoder_L1 = nn.Linear(in_features=3, out_features=ori_subset_transformed.shape[1], bias=True) # add linearity \n",
        "        nn.init.xavier_uniform_(self.decoder_L1.weight)  # init weights according to [9]\n",
        "        self.decoder_R1 = nn.LeakyReLU(negative_slope=0.4, inplace=True) # add non-linearity according to [10]\n",
        "\n",
        "    def forward(self, x):\n",
        "\n",
        "        # define forward pass through the network\n",
        "        x = self.decoder_R1(self.decoder_L1(x)) # don't apply dropout to the AE output\n",
        "        \n",
        "        return x"
      ],
      "execution_count": 0,
      "outputs": []
    },
    {
      "cell_type": "markdown",
      "metadata": {
        "id": "wh2I7p21MpG6",
        "colab_type": "text"
      },
      "source": [
        "**Explore the latent space representation** \n",
        "\n",
        "In a real world scenario it is usually beneficial to visualize the data manifolds to:\n",
        "\n",
        "> 1. determine if the autoencoder learned a meaningful representation; and,\n",
        "> 2. obtain an impression of the structural characteristics and dependencies in the data.\n",
        "\n",
        "To achieve this, we will propagate the data through the trained model and capture for each transaction the respective representation in the latent space as referred to as \"embeddings\" (the activation pattern of each journal entry at the bottleneck neurons). \n",
        "\n",
        "Therefore, we intentionally chose a bottleneck layer comprised of 3 neurons. This provides us the ability to visualize the distinctive activation pattern using the 3d plotting capabilities of Pythons matplotlib library. In the subsequent cells we already prepared a plotting function that draws a 3d scatter plot of the latent space representation of each transaction at a particular epoch."
      ]
    },
    {
      "cell_type": "code",
      "metadata": {
        "id": "4T-l0smdMpG6",
        "colab_type": "code",
        "colab": {}
      },
      "source": [
        "# plot latent space representation of all samples given latent variable and label class\n",
        "def plot_latent_space(latent_variable, label, epoch):\n",
        "    \"\"\" Plots latent space activations as a 3d scatter plot at particular epoch\n",
        "    :param latent_space: activations of latent space\n",
        "    :param label: 1-d array of labels defining type of anomaly\n",
        "    :param epoch: training epoch\n",
        "    \"\"\"\n",
        "    # prepare plot\n",
        "    fig = plt.figure(figsize=(10,8))\n",
        "    ax = fig.add_subplot(111, projection='3d')\n",
        "    ax.view_init(30, 45)\n",
        "\n",
        "    # set axis paramaters of subplot\n",
        "    ax.grid(linestyle='dotted')\n",
        "    \n",
        "    # set label and title details\n",
        "    ax.set_xlabel(r'activation [$z_1$]', weight='normal', fontsize=12)\n",
        "    ax.set_ylabel(r'activation [$z_2$]', weight='normal', fontsize=12)\n",
        "    ax.set_zlabel(r'activation [$z_3$]', weight='normal', fontsize=12)\n",
        "    plt.title('latent space activations at epoch ' + str(epoch), fontsize=12)\n",
        "\n",
        "    # plot regular transactions\n",
        "    regular = latent_variable[np.where(label == 'regular')]\n",
        "    ax.scatter(regular[:, 0], regular[:, 1], regular[:, 2], c='C0', alpha=0.4, marker=\"o\")\n",
        "\n",
        "    # plot first order anomalous transactions\n",
        "    anomalies_1 = latent_variable[np.where(label == 'global')]\n",
        "    ax.scatter(anomalies_1[:, 0], anomalies_1[:, 1], anomalies_1[:, 2], c='C1', s=100, marker=\"^\")\n",
        "\n",
        "    # plot second order anomalous transactions\n",
        "    anomalies_2 = latent_variable[np.where(label == 'local')]\n",
        "    ax.scatter(anomalies_2[:, 0], anomalies_2[:, 1], anomalies_2[:, 2], c='C2', s=100, marker=\"^\")"
      ],
      "execution_count": 0,
      "outputs": []
    },
    {
      "cell_type": "markdown",
      "metadata": {
        "id": "XEp73DnoMpG9",
        "colab_type": "text"
      },
      "source": [
        "However, before plotting the embeddings we load the model of the shallow autoencoder network you have been asked to train in exercise 7.2 of the optional exercises. Since we are interested on the latent space representation of each transaction we only need to load the pre-trained encoder part of the autoencoder (ignoring the decoder part) and propagate all transactions through it.\n",
        "\n",
        "The function below will accomplish these steps for a given pre-trained encoder model."
      ]
    },
    {
      "cell_type": "code",
      "metadata": {
        "id": "I4t9AbHdMpG-",
        "colab_type": "code",
        "colab": {}
      },
      "source": [
        "# extract latent space representation of all samples given the name of encoder model to be loaded\n",
        "def get_latent_space(encoder_model_name):\n",
        "    ''' Extracts the latent space representation\n",
        "    :param encoder_model_name: file name of the pretrained encoder model\n",
        "    :return: latent space representation\n",
        "    '''\n",
        "    # init training network classes / architectures\n",
        "    encoder_eval = encoder()\n",
        "\n",
        "    # load trained models\n",
        "    encoder_eval.load_state_dict(torch.load(encoder_model_name))\n",
        "\n",
        "    # convert encoded transactional data to torch Variable\n",
        "    data = autograd.Variable(torch_dataset)\n",
        "\n",
        "    # set networks in training mode (don't apply dropout)\n",
        "    encoder_eval.eval()\n",
        "\n",
        "    # extract encoded latent space representation\n",
        "    latent_variable = encoder_eval(data).data.numpy()\n",
        "    \n",
        "    return latent_variable"
      ],
      "execution_count": 0,
      "outputs": []
    },
    {
      "cell_type": "markdown",
      "metadata": {
        "id": "2X3o6eaMMpHC",
        "colab_type": "text"
      },
      "source": [
        "Now let's check how the latent space representation \"embeddings\" of the individual transactions changes with progressing training epochs. In order to do so, you can load any checkpoint of a particular training epoch and visualize the latent representations you want to have a look at using the code snipped below. \n",
        "\n",
        "If you didn't find the time to accomplish exercise 7.2 you may want to plot the embeddings using the pre-trained model we prepared for this lab as stated in the cell below. This will also give you an idea of the transactional manifolds learned by the autoencoder network."
      ]
    },
    {
      "cell_type": "code",
      "metadata": {
        "id": "YU6sBttyMpHC",
        "colab_type": "code",
        "outputId": "43bcd707-abb9-4da9-c140-162ab5881f81",
        "colab": {
          "base_uri": "https://localhost:8080/",
          "height": 466
        }
      },
      "source": [
        "# determine epoch of model to be evaluated\n",
        "eval_epoch = 5\n",
        "\n",
        "# collect latent space representation at a certain epochs \n",
        "z_representation = get_latent_space(encoder_model_name='ep_{}_encoder_model.pth'.format(eval_epoch))\n",
        "\n",
        "# plot the latent space at a particular epoch\n",
        "plot_latent_space(z_representation, label, epoch=eval_epoch)"
      ],
      "execution_count": 0,
      "outputs": [
        {
          "output_type": "display_data",
          "data": {
            "image/png": "[encoded data removed]",
            "text/plain": [
              "<Figure size 720x576 with 1 Axes>"
            ]
          },
          "metadata": {
            "tags": []
          }
        }
      ]
    },
    {
      "cell_type": "markdown",
      "metadata": {
        "id": "MGgoDHgBMpHK",
        "colab_type": "text"
      },
      "source": [
        "To execute the model outside of the jupyter notebook environment e.g. on compute node or server. The cell below converts the lab notebook into a standalone and executable python script."
      ]
    },
    {
      "cell_type": "code",
      "metadata": {
        "id": "ExL-FLflMpHK",
        "colab_type": "code",
        "outputId": "33f838d3-bbd5-4b22-c798-d24b139d0329",
        "colab": {
          "base_uri": "https://localhost:8080/",
          "height": 1000
        }
      },
      "source": [
        "!jupyter nbconvert --to script GTC_2018_Lab.ipynb"
      ],
      "execution_count": 0,
      "outputs": [
        {
          "output_type": "stream",
          "text": [
            "[NbConvertApp] WARNING | pattern u'GTC_2018_Lab.ipynb' matched no files\n",
            "This application is used to convert notebook files (*.ipynb) to various other\n",
            "formats.\n",
            "\n",
            "WARNING: THE COMMANDLINE INTERFACE MAY CHANGE IN FUTURE RELEASES.\n",
            "\n",
            "Options\n",
            "-------\n",
            "\n",
            "Arguments that take values are actually convenience aliases to full\n",
            "Configurables, whose aliases are listed on the help line. For more information\n",
            "on full configurables, see '--help-all'.\n",
            "\n",
            "--execute\n",
            "    Execute the notebook prior to export.\n",
            "--allow-errors\n",
            "    Continue notebook execution even if one of the cells throws an error and include the error message in the cell output (the default behaviour is to abort conversion). This flag is only relevant if '--execute' was specified, too.\n",
            "--no-input\n",
            "    Exclude input cells and output prompts from converted document. \n",
            "    This mode is ideal for generating code-free reports.\n",
            "--stdout\n",
            "    Write notebook output to stdout instead of files.\n",
            "--stdin\n",
            "    read a single notebook file from stdin. Write the resulting notebook with default basename 'notebook.*'\n",
            "--inplace\n",
            "    Run nbconvert in place, overwriting the existing notebook (only \n",
            "    relevant when converting to notebook format)\n",
            "-y\n",
            "    Answer yes to any questions instead of prompting.\n",
            "--clear-output\n",
            "    Clear output of current file and save in place, \n",
            "    overwriting the existing notebook.\n",
            "--debug\n",
            "    set log level to logging.DEBUG (maximize logging output)\n",
            "--no-prompt\n",
            "    Exclude input and output prompts from converted document.\n",
            "--generate-config\n",
            "    generate default config file\n",
            "--nbformat=<Enum> (NotebookExporter.nbformat_version)\n",
            "    Default: 4\n",
            "    Choices: [1, 2, 3, 4]\n",
            "    The nbformat version to write. Use this to downgrade notebooks.\n",
            "--output-dir=<Unicode> (FilesWriter.build_directory)\n",
            "    Default: ''\n",
            "    Directory to write output(s) to. Defaults to output to the directory of each\n",
            "    notebook. To recover previous default behaviour (outputting to the current\n",
            "    working directory) use . as the flag value.\n",
            "--writer=<DottedObjectName> (NbConvertApp.writer_class)\n",
            "    Default: 'FilesWriter'\n",
            "    Writer class used to write the  results of the conversion\n",
            "--log-level=<Enum> (Application.log_level)\n",
            "    Default: 30\n",
            "    Choices: (0, 10, 20, 30, 40, 50, 'DEBUG', 'INFO', 'WARN', 'ERROR', 'CRITICAL')\n",
            "    Set the log level by value or name.\n",
            "--reveal-prefix=<Unicode> (SlidesExporter.reveal_url_prefix)\n",
            "    Default: u''\n",
            "    The URL prefix for reveal.js (version 3.x). This defaults to the reveal CDN,\n",
            "    but can be any url pointing to a copy  of reveal.js.\n",
            "    For speaker notes to work, this must be a relative path to a local  copy of\n",
            "    reveal.js: e.g., \"reveal.js\".\n",
            "    If a relative path is given, it must be a subdirectory of the current\n",
            "    directory (from which the server is run).\n",
            "    See the usage documentation\n",
            "    (https://nbconvert.readthedocs.io/en/latest/usage.html#reveal-js-html-\n",
            "    slideshow) for more details.\n",
            "--to=<Unicode> (NbConvertApp.export_format)\n",
            "    Default: 'html'\n",
            "    The export format to be used, either one of the built-in formats\n",
            "    ['asciidoc', 'custom', 'html', 'latex', 'markdown', 'notebook', 'pdf',\n",
            "    'python', 'rst', 'script', 'slides'] or a dotted object name that represents\n",
            "    the import path for an `Exporter` class\n",
            "--template=<Unicode> (TemplateExporter.template_file)\n",
            "    Default: u''\n",
            "    Name of the template file to use\n",
            "--output=<Unicode> (NbConvertApp.output_base)\n",
            "    Default: ''\n",
            "    overwrite base name use for output files. can only be used when converting\n",
            "    one notebook at a time.\n",
            "--post=<DottedOrNone> (NbConvertApp.postprocessor_class)\n",
            "    Default: u''\n",
            "    PostProcessor class used to write the results of the conversion\n",
            "--config=<Unicode> (JupyterApp.config_file)\n",
            "    Default: u''\n",
            "    Full path of a config file.\n",
            "\n",
            "To see all available configurables, use `--help-all`\n",
            "\n",
            "Examples\n",
            "--------\n",
            "\n",
            "    The simplest way to use nbconvert is\n",
            "    \n",
            "    > jupyter nbconvert mynotebook.ipynb\n",
            "    \n",
            "    which will convert mynotebook.ipynb to the default format (probably HTML).\n",
            "    \n",
            "    You can specify the export format with `--to`.\n",
            "    Options include ['asciidoc', 'custom', 'html', 'latex', 'markdown', 'notebook', 'pdf', 'python', 'rst', 'script', 'slides'].\n",
            "    \n",
            "    > jupyter nbconvert --to latex mynotebook.ipynb\n",
            "    \n",
            "    Both HTML and LaTeX support multiple output templates. LaTeX includes\n",
            "    'base', 'article' and 'report'.  HTML includes 'basic' and 'full'. You\n",
            "    can specify the flavor of the format used.\n",
            "    \n",
            "    > jupyter nbconvert --to html --template basic mynotebook.ipynb\n",
            "    \n",
            "    You can also pipe the output to stdout, rather than a file\n",
            "    \n",
            "    > jupyter nbconvert mynotebook.ipynb --stdout\n",
            "    \n",
            "    PDF is generated via latex\n",
            "    \n",
            "    > jupyter nbconvert mynotebook.ipynb --to pdf\n",
            "    \n",
            "    You can get (and serve) a Reveal.js-powered slideshow\n",
            "    \n",
            "    > jupyter nbconvert myslides.ipynb --to slides --post serve\n",
            "    \n",
            "    Multiple notebooks can be given at the command line in a couple of \n",
            "    different ways:\n",
            "    \n",
            "    > jupyter nbconvert notebook*.ipynb\n",
            "    > jupyter nbconvert notebook1.ipynb notebook2.ipynb\n",
            "    \n",
            "    or you can specify the notebooks list in a config file, containing::\n",
            "    \n",
            "        c.NbConvertApp.notebooks = [\"my_notebook.ipynb\"]\n",
            "    \n",
            "    > jupyter nbconvert --config mycfg.py\n",
            "\n"
          ],
          "name": "stdout"
        }
      ]
    }
  ]
}